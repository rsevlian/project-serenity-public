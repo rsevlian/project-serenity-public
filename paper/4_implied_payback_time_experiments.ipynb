{
 "cells": [
  {
   "cell_type": "code",
   "execution_count": 1,
   "metadata": {},
   "outputs": [
    {
     "data": {
      "text/html": [
       "<style>.container { width:100% !important; }</style>"
      ],
      "text/plain": [
       "<IPython.core.display.HTML object>"
      ]
     },
     "metadata": {},
     "output_type": "display_data"
    },
    {
     "data": {
      "text/plain": [
       "<module 'machine_npv' from '/Users/merkle-employee/Desktop/project-ursa/lib/machine_npv.py'>"
      ]
     },
     "execution_count": 1,
     "metadata": {},
     "output_type": "execute_result"
    }
   ],
   "source": [
    "import sys\n",
    "import pandas as pd\n",
    "import matplotlib.pyplot as plt\n",
    "import datetime\n",
    "import logging\n",
    "import requests\n",
    "import datetime as dt\n",
    "import pylab\n",
    "\n",
    "import scipy.stats as stats\n",
    "from matplotlib import pyplot\n",
    "\n",
    "import numpy as np\n",
    "\n",
    "import warnings\n",
    "warnings.filterwarnings('ignore')\n",
    "\n",
    "logging.getLogger().setLevel(logging.INFO)\n",
    "\n",
    "from IPython.display import display, HTML\n",
    "display(HTML(\"<style>.container { width:100% !important; }</style>\"))\n",
    "import os, sys\n",
    "\n",
    "home = os.environ[\"HOME\"]\n",
    "sys.path.append(f\"{home}/Desktop/project-ursa/lib\")\n",
    "\n",
    "import imp\n",
    "\n",
    "import monte_carlo\n",
    "imp.reload(monte_carlo)\n",
    "\n",
    "import data_utils\n",
    "imp.reload(data_utils)\n",
    "\n",
    "import data_analysis\n",
    "imp.reload(data_analysis)\n",
    "\n",
    "import mining_constants\n",
    "imp.reload(mining_constants)\n",
    "\n",
    "import machine_npv\n",
    "imp.reload(machine_npv)"
   ]
  },
  {
   "cell_type": "code",
   "execution_count": 5,
   "metadata": {},
   "outputs": [
    {
     "name": "stderr",
     "output_type": "stream",
     "text": [
      "INFO:root:precomputing option_df: k 0 time 2022-08-28 hash-rate 209709319.55404043 btc 19554.08\n",
      "INFO:root:precomputing option_df: k 1 time 2022-09-04 hash-rate 215699327.77267936 btc 20003.46\n",
      "INFO:root:precomputing option_df: k 2 time 2022-09-11 hash-rate 220803155.7704675 btc 21836.45\n",
      "INFO:root:precomputing option_df: k 3 time 2022-09-18 hash-rate 227550574.75238138 btc 19417.72\n",
      "INFO:root:precomputing option_df: k 4 time 2022-09-25 hash-rate 227996733.6188044 btc 18809.94\n"
     ]
    }
   ],
   "source": [
    "machine_params   = mining_constants.machine_params()\n",
    "machine_duration = 1.2\n",
    "ky = \"S19J\"\n",
    "params = {\n",
    "    \"asic_energy_consumption\" : machine_params[ky][\"energy_consumption\"],\n",
    "    \"asic_hash_rate\"          : machine_params[ky][\"hash_rate\"],\n",
    "    \"electricity_cost\"        : 0.05,\n",
    "    \"machine_duration\"        : machine_duration,\n",
    "    \"sample_rate\"             : mining_constants.SAMPLE_RATE_WEEKLY,\n",
    "    \"mc_size\"                 : 1000,\n",
    "    \"interest_rate\"           : 0.05,\n",
    "    \"asic_number\"             : 1,\n",
    "    \"asic_efficiency\"         : 1.0,\n",
    "    \"pool_fee\"                : 0.005,\n",
    "    \"analysis_denomination\"   : mining_constants.ASSET_USD\n",
    "}\n",
    "\n",
    "##\n",
    "du = data_utils.DataUtility(\"\")\n",
    "du._raw_network_price_df    = pd.read_csv(\"../../data/raw_network_price.csv\").drop(\"Unnamed: 0\", axis=\"columns\")\n",
    "\n",
    "du._raw_network_price_df.time = pd.to_datetime(du._raw_network_price_df.time)\n",
    "du._df_feature() \n",
    "du._aggregate_weekly_df() \n",
    "\n",
    "machine_prices = data_utils.machine_market_prices(\"../../data/machine_prices.csv\")\n",
    "du._weekly_machine_price_df = du._join_machine_price(machine_prices, HR_ROLLING_AVG=30)\n",
    "\n",
    "weekly_df = du._weekly_network_price_df\n",
    "machine_df = du._weekly_machine_price_df\n",
    "\n",
    "## \n",
    "sp = monte_carlo.GBMPriceLinearHashRate()\n",
    "sp.fit(weekly_df, sample_rate=mining_constants.SAMPLE_RATE_WEEKLY)\n",
    "\n",
    "## \n",
    "k = len(weekly_df) - 1\n",
    "\n",
    "# start_time = weekly_df.reset_index().loc[k, \"time\"]\n",
    "# hash_rate  = weekly_df.reset_index().loc[k, \"hashrate\"]\n",
    "# hash_index = weekly_df.reset_index().loc[k, \"hash_index\"]\n",
    "# btc_close  = weekly_df.reset_index().loc[k, \"close\"]\n",
    "\n",
    "m_usd_bsm = machine_npv.MachineNPV_USD_BSM(sp, params)\n",
    "# usd_bsm   = m_usd_bsm.price(start_time, btc_close, hash_rate)\n",
    "import implied_payback_time\n",
    "\n",
    "ipt    = implied_payback_time.ImpliedPayoffTime(params, m_usd_bsm, machine_df.tail(5))\n",
    "ipt_df = ipt.compute(machine_type=mining_constants.MACHINE_M20, alpha=0.75, beta=0.5, MAX_DURATION=5)\n"
   ]
  },
  {
   "cell_type": "code",
   "execution_count": 6,
   "metadata": {},
   "outputs": [],
   "source": [
    "# import data_utils\n",
    "\n",
    "# du = data_utils.DataUtility(\"\")\n",
    "# du._raw_network_price_df    = pd.read_csv(\"../../data/raw_network_price.csv\").drop(\"Unnamed: 0\", axis=\"columns\")\n",
    "\n",
    "# du._raw_network_price_df.time = pd.to_datetime(du._raw_network_price_df.time)\n",
    "# du._df_feature() \n",
    "# du._aggregate_weekly_df() \n",
    "\n",
    "# machine_prices = data_utils.machine_market_prices(\"../../data/machine_prices.csv\")\n",
    "# du._weekly_machine_price_df = du._join_machine_price(machine_prices, HR_ROLLING_AVG=30)\n",
    "\n",
    "# weekly_df = du._weekly_network_price_df\n",
    "# machine_df = du._weekly_machine_price_df\n",
    "\n",
    "# import monte_carlo\n",
    "# imp.reload(monte_carlo)\n",
    "# \n",
    "# sp = monte_carlo.GBMPriceLinearHashRate()\n",
    "# sp.fit(\n",
    "#     weekly_df, \n",
    "#     sample_rate = mining_constants.SAMPLE_RATE_WEEKLY\n",
    "# )"
   ]
  },
  {
   "cell_type": "code",
   "execution_count": 8,
   "metadata": {},
   "outputs": [],
   "source": [
    "# ## \n",
    "# k = len(weekly_df) - 1\n",
    "\n",
    "# start_time = weekly_df.reset_index().loc[k, \"time\"]\n",
    "# hash_rate  = weekly_df.reset_index().loc[k, \"hashrate\"]\n",
    "# hash_index = weekly_df.reset_index().loc[k, \"hash_index\"]\n",
    "# btc_close  = weekly_df.reset_index().loc[k, \"close\"]\n",
    "\n",
    "# print(\"week: \", start_time, \"hashrate: \", hash_rate, \"hash-index: \", hash_index, \"btc-close: \", btc_close)\n",
    "\n",
    "# machine_params   = mining_constants.machine_params()\n",
    "# machine_duration = 1.2\n",
    "# ky = \"S19J\"\n",
    "# params = {\n",
    "#     \"asic_energy_consumption\" : machine_params[ky][\"energy_consumption\"],\n",
    "#     \"asic_hash_rate\"          : machine_params[ky][\"hash_rate\"],\n",
    "#     \"electricity_cost\"        : 0.03,\n",
    "#     \"machine_duration\"        : machine_duration,\n",
    "#     \"sample_rate\"             : mining_constants.SAMPLE_RATE_WEEKLY,\n",
    "#     \"mc_size\"                 : 1000,\n",
    "#     \"interest_rate\"           : 0.05,\n",
    "#     \"asic_number\"             : 1,\n",
    "#     \"asic_efficiency\"         : 1.0,\n",
    "#     \"pool_fee\"                : 0.005,\n",
    "#     \"analysis_denomination\"   : mining_constants.ASSET_USD\n",
    "# }"
   ]
  },
  {
   "cell_type": "code",
   "execution_count": 9,
   "metadata": {},
   "outputs": [],
   "source": [
    "# import machine_npv\n",
    "# imp.reload(machine_npv)\n",
    "# \n",
    "# m_usd_bsm = machine_npv.MachineNPV_USD_BSM(sp, params)\n",
    "# usd_bsm   = m_usd_bsm.price(start_time, btc_close, hash_rate)\n",
    "# \n",
    "# ipt    = implied_payback_time.ImpliedPayoffTime(params, m_usd_bsm, machine_df.tail(10))\n",
    "# ipt_df = ipt.compute(machine_type=mining_constants.MACHINE_M20, alpha=0.75, beta=0.5, MAX_DURATION=5)\n",
    "# \n",
    "# e = ipt_df.ipb_ttm.values - [0.61776062, 0.54054054, 0.54054054, 0.5019305 , 0.61776062, 0.73359073, 0.73359073, 0.65637066, 0.83011583, 0.88803089]\n",
    "# assert round(sum(abs(e)), 3) == 0"
   ]
  },
  {
   "cell_type": "code",
   "execution_count": 12,
   "metadata": {
    "scrolled": true
   },
   "outputs": [],
   "source": [
    "# ipt_df.ipb_ttm.values"
   ]
  },
  {
   "cell_type": "code",
   "execution_count": null,
   "metadata": {},
   "outputs": [],
   "source": [
    "# plt.figure(figsize=(10, 4))\n",
    "# plt.plot(ipt_df.ipb_npv)\n",
    "# plt.plot(ipt_df.eff_npv)\n",
    "# plt.grid()"
   ]
  },
  {
   "cell_type": "code",
   "execution_count": null,
   "metadata": {},
   "outputs": [],
   "source": [
    "# plt.plot(ipt_df.ipb_ttm)"
   ]
  },
  {
   "cell_type": "code",
   "execution_count": null,
   "metadata": {},
   "outputs": [],
   "source": [
    "# ipt_df.ipb_ttm.values"
   ]
  },
  {
   "cell_type": "code",
   "execution_count": null,
   "metadata": {},
   "outputs": [],
   "source": [
    "# when 1 plus 1 equaled 3\n",
    "# and money did seem to grow on a tree\n",
    "# reckless actions of few\n",
    "# cursed a whole lot - who knew\n",
    "# shit i didnt expect them to fire me"
   ]
  },
  {
   "cell_type": "code",
   "execution_count": null,
   "metadata": {},
   "outputs": [],
   "source": []
  },
  {
   "cell_type": "code",
   "execution_count": null,
   "metadata": {},
   "outputs": [],
   "source": []
  }
 ],
 "metadata": {
  "kernelspec": {
   "display_name": "Python 3 (ipykernel)",
   "language": "python",
   "name": "python3"
  },
  "language_info": {
   "codemirror_mode": {
    "name": "ipython",
    "version": 3
   },
   "file_extension": ".py",
   "mimetype": "text/x-python",
   "name": "python",
   "nbconvert_exporter": "python",
   "pygments_lexer": "ipython3",
   "version": "3.10.10"
  }
 },
 "nbformat": 4,
 "nbformat_minor": 2
}
