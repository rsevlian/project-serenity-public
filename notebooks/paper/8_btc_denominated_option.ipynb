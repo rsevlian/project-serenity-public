{
 "cells": [
  {
   "cell_type": "code",
   "execution_count": 1,
   "metadata": {},
   "outputs": [
    {
     "data": {
      "text/html": [
       "<style>.container { width:100% !important; }</style>"
      ],
      "text/plain": [
       "<IPython.core.display.HTML object>"
      ]
     },
     "metadata": {},
     "output_type": "display_data"
    }
   ],
   "source": [
    "import sys\n",
    "import pandas as pd\n",
    "import matplotlib.pyplot as plt\n",
    "import datetime\n",
    "import logging\n",
    "import requests\n",
    "import datetime as dt\n",
    "import pylab\n",
    "\n",
    "import scipy.stats as stats\n",
    "from matplotlib import pyplot\n",
    "\n",
    "import numpy as np\n",
    "\n",
    "import warnings\n",
    "warnings.filterwarnings('ignore')\n",
    "\n",
    "logging.getLogger().setLevel(logging.INFO)\n",
    "\n",
    "from IPython.display import display, HTML\n",
    "display(HTML(\"<style>.container { width:100% !important; }</style>\"))\n",
    "import os, sys\n",
    "\n",
    "home = os.environ[\"HOME\"]\n",
    "sys.path.append(f\"{home}/Desktop/project-ursa/lib\")\n",
    "\n",
    "import imp"
   ]
  },
  {
   "cell_type": "code",
   "execution_count": 2,
   "metadata": {},
   "outputs": [
    {
     "data": {
      "text/plain": [
       "<module 'analysis' from '/Users/merkle-employee/Desktop/project-ursa/lib/analysis.py'>"
      ]
     },
     "execution_count": 2,
     "metadata": {},
     "output_type": "execute_result"
    }
   ],
   "source": [
    "import data_utils\n",
    "import monte_carlo\n",
    "import machine_npv\n",
    "import implied_payback_time\n",
    "import mining_constants\n",
    "import delta_hedge\n",
    "import machine_replication\n",
    "import analysis\n",
    "\n",
    "imp.reload(data_utils)\n",
    "imp.reload(monte_carlo)\n",
    "imp.reload(machine_npv)\n",
    "imp.reload(mining_constants)\n",
    "imp.reload(implied_payback_time)\n",
    "imp.reload(delta_hedge)\n",
    "imp.reload(machine_replication)\n",
    "imp.reload(analysis)"
   ]
  },
  {
   "cell_type": "code",
   "execution_count": 3,
   "metadata": {},
   "outputs": [],
   "source": [
    "machine_params   = mining_constants.machine_params()\n",
    "machine_duration = 1.0\n",
    "ky = \"M20\"\n",
    "params = {\n",
    "    \"asic_energy_consumption\" : machine_params[ky][\"energy_consumption\"],\n",
    "    \"asic_hash_rate\"          : machine_params[ky][\"hash_rate\"],\n",
    "    \"electricity_cost\"        : 0.05,\n",
    "    \"machine_duration\"        : 1.0,\n",
    "    \"sample_rate\"             : mining_constants.SAMPLE_RATE_WEEKLY,\n",
    "    \"mc_size\"                 : 1000,\n",
    "    \"interest_rate\"           : 0.05,\n",
    "    \"asic_number\"             : 1,\n",
    "    \"asic_efficiency\"         : 1.0,\n",
    "    \"pool_fee\"                : 0.005,\n",
    "    \"analysis_denomination\"   : mining_constants.ASSET_USD\n",
    "}"
   ]
  },
  {
   "cell_type": "code",
   "execution_count": 4,
   "metadata": {},
   "outputs": [],
   "source": [
    "##\n",
    "du = data_utils.DataUtility(\"cc_key\")\n",
    "du._raw_network_price_df = pd.read_csv(\"../../data/raw_network_price.csv\").drop(\"Unnamed: 0\", axis=\"columns\")\n",
    "du._raw_network_price_df.time = pd.to_datetime(du._raw_network_price_df.time)\n",
    "du._df_feature( ) \n",
    "du._aggregate_weekly_df( ) \n",
    "\n",
    "daily_df  = du._daily_network_price_df\n",
    "weekly_df = du._weekly_network_price_df\n"
   ]
  },
  {
   "cell_type": "code",
   "execution_count": 5,
   "metadata": {},
   "outputs": [],
   "source": [
    "# - - - - - weekly_df.head()"
   ]
  },
  {
   "cell_type": "code",
   "execution_count": 6,
   "metadata": {},
   "outputs": [],
   "source": [
    "## \n",
    "sp = monte_carlo.GBMPriceLinearHashRate()\n",
    "sp.fit(weekly_df, sample_rate=mining_constants.SAMPLE_RATE_WEEKLY)"
   ]
  },
  {
   "cell_type": "code",
   "execution_count": 35,
   "metadata": {},
   "outputs": [
    {
     "data": {
      "text/plain": [
       "(285, 253, datetime.date(2022, 9, 9), 19771.787142857145)"
      ]
     },
     "execution_count": 35,
     "metadata": {},
     "output_type": "execute_result"
    }
   ],
   "source": [
    "## \n",
    "k = 253#len(weekly_df) - 1\n",
    "\n",
    "start_time = weekly_df.reset_index().loc[k, \"time\"]\n",
    "hash_rate  = weekly_df.reset_index().loc[k, \"hashrate\"]\n",
    "hash_index = weekly_df.reset_index().loc[k, \"hash_index\"]\n",
    "btc_close  = weekly_df.reset_index().loc[k, \"close\"]\n",
    "(len(weekly_df), k,  start_time, btc_close)"
   ]
  },
  {
   "cell_type": "code",
   "execution_count": 36,
   "metadata": {
    "scrolled": true
   },
   "outputs": [
    {
     "name": "stderr",
     "output_type": "stream",
     "text": [
      "INFO:root:simulate: T = 1.0 sample_rate = 52 => steps = 52 vol-scale(52/52) vol 0.0873135992840332 => 0.0873135992840332 mu 0.005344673686849799 = > 0.005344673686849799\n",
      "INFO:root:simulate: T = 1.0 sample_rate = 52 => steps = 52 vol-scale(52/52) vol 0.0873135992840332 => 0.0873135992840332 mu 0.005344673686849799 = > 0.005344673686849799\n"
     ]
    },
    {
     "name": "stdout",
     "output_type": "stream",
     "text": [
      "steps  52\n",
      "steps  52\n"
     ]
    },
    {
     "name": "stderr",
     "output_type": "stream",
     "text": [
      "INFO:root:simulate: T = 1.0 sample_rate = 52 => steps = 52 vol-scale(52/52) vol 0.0873135992840332 => 0.0873135992840332 mu 0.005344673686849799 = > 0.005344673686849799\n"
     ]
    },
    {
     "name": "stdout",
     "output_type": "stream",
     "text": [
      "steps  52\n"
     ]
    },
    {
     "name": "stderr",
     "output_type": "stream",
     "text": [
      "INFO:root:{'spot': 10000.0, 'usd_bsm': 30.86889121851223, 'usd_bin': 30.78647650821398, 'btc_bin': 0.0011491981052746724, 'usd_delta_1': 0.013724595885496831, 'usd_delta_2': 0.08739483155655707, 'btc_delta': 5.03414921569477e-07}\n",
      "INFO:root:simulate: T = 1.0 sample_rate = 52 => steps = 52 vol-scale(52/52) vol 0.0873135992840332 => 0.0873135992840332 mu 0.005344673686849799 = > 0.005344673686849799\n",
      "INFO:root:simulate: T = 1.0 sample_rate = 52 => steps = 52 vol-scale(52/52) vol 0.0873135992840332 => 0.0873135992840332 mu 0.005344673686849799 = > 0.005344673686849799\n"
     ]
    },
    {
     "name": "stdout",
     "output_type": "stream",
     "text": [
      "steps  52\n",
      "steps  52\n"
     ]
    },
    {
     "name": "stderr",
     "output_type": "stream",
     "text": [
      "INFO:root:simulate: T = 1.0 sample_rate = 52 => steps = 52 vol-scale(52/52) vol 0.0873135992840332 => 0.0873135992840332 mu 0.005344673686849799 = > 0.005344673686849799\n"
     ]
    },
    {
     "name": "stdout",
     "output_type": "stream",
     "text": [
      "steps  52\n"
     ]
    },
    {
     "name": "stderr",
     "output_type": "stream",
     "text": [
      "INFO:root:{'spot': 15555.555555555555, 'usd_bsm': 192.89367346826148, 'usd_bin': 193.05627579302293, 'btc_bin': 0.006939057525795541, 'usd_delta_1': 0.046925602806785184, 'usd_delta_2': 0.08739483155655707, 'btc_delta': 1.632961106409873e-06}\n",
      "INFO:root:simulate: T = 1.0 sample_rate = 52 => steps = 52 vol-scale(52/52) vol 0.0873135992840332 => 0.0873135992840332 mu 0.005344673686849799 = > 0.005344673686849799\n",
      "INFO:root:simulate: T = 1.0 sample_rate = 52 => steps = 52 vol-scale(52/52) vol 0.0873135992840332 => 0.0873135992840332 mu 0.005344673686849799 = > 0.005344673686849799\n"
     ]
    },
    {
     "name": "stdout",
     "output_type": "stream",
     "text": [
      "steps  52\n",
      "steps  52\n"
     ]
    },
    {
     "name": "stderr",
     "output_type": "stream",
     "text": [
      "INFO:root:simulate: T = 1.0 sample_rate = 52 => steps = 52 vol-scale(52/52) vol 0.0873135992840332 => 0.0873135992840332 mu 0.005344673686849799 = > 0.005344673686849799\n"
     ]
    },
    {
     "name": "stdout",
     "output_type": "stream",
     "text": [
      "steps  52\n"
     ]
    },
    {
     "name": "stderr",
     "output_type": "stream",
     "text": [
      "INFO:root:{'spot': 21111.11111111111, 'usd_bsm': 527.2574047517867, 'usd_bin': 527.3452428482391, 'btc_bin': 0.017238699782724038, 'usd_delta_1': 0.06965245438784917, 'usd_delta_2': 0.08739483155655707, 'btc_delta': 1.8785599424442627e-06}\n",
      "INFO:root:simulate: T = 1.0 sample_rate = 52 => steps = 52 vol-scale(52/52) vol 0.0873135992840332 => 0.0873135992840332 mu 0.005344673686849799 = > 0.005344673686849799\n",
      "INFO:root:simulate: T = 1.0 sample_rate = 52 => steps = 52 vol-scale(52/52) vol 0.0873135992840332 => 0.0873135992840332 mu 0.005344673686849799 = > 0.005344673686849799\n"
     ]
    },
    {
     "name": "stdout",
     "output_type": "stream",
     "text": [
      "steps  52\n",
      "steps  52\n"
     ]
    },
    {
     "name": "stderr",
     "output_type": "stream",
     "text": [
      "INFO:root:simulate: T = 1.0 sample_rate = 52 => steps = 52 vol-scale(52/52) vol 0.0873135992840332 => 0.0873135992840332 mu 0.005344673686849799 = > 0.005344673686849799\n"
     ]
    },
    {
     "name": "stdout",
     "output_type": "stream",
     "text": [
      "steps  52\n"
     ]
    },
    {
     "name": "stderr",
     "output_type": "stream",
     "text": [
      "INFO:root:{'spot': 26666.666666666668, 'usd_bsm': 941.5115937441261, 'usd_bin': 941.5049449210807, 'btc_bin': 0.026859101790265582, 'usd_delta_1': 0.07823544022906748, 'usd_delta_2': 0.08739483155655707, 'btc_delta': 1.5697912619654375e-06}\n",
      "INFO:root:simulate: T = 1.0 sample_rate = 52 => steps = 52 vol-scale(52/52) vol 0.0873135992840332 => 0.0873135992840332 mu 0.005344673686849799 = > 0.005344673686849799\n",
      "INFO:root:simulate: T = 1.0 sample_rate = 52 => steps = 52 vol-scale(52/52) vol 0.0873135992840332 => 0.0873135992840332 mu 0.005344673686849799 = > 0.005344673686849799\n"
     ]
    },
    {
     "name": "stdout",
     "output_type": "stream",
     "text": [
      "steps  52\n",
      "steps  52\n"
     ]
    },
    {
     "name": "stderr",
     "output_type": "stream",
     "text": [
      "INFO:root:simulate: T = 1.0 sample_rate = 52 => steps = 52 vol-scale(52/52) vol 0.0873135992840332 => 0.0873135992840332 mu 0.005344673686849799 = > 0.005344673686849799\n"
     ]
    },
    {
     "name": "stdout",
     "output_type": "stream",
     "text": [
      "steps  52\n"
     ]
    },
    {
     "name": "stderr",
     "output_type": "stream",
     "text": [
      "INFO:root:{'spot': 32222.222222222223, 'usd_bsm': 1387.545657927281, 'usd_bin': 1387.5329091800454, 'btc_bin': 0.03465397287098997, 'usd_delta_1': 0.08188907737973408, 'usd_delta_2': 0.08739483155655707, 'btc_delta': 1.2473352289674624e-06}\n",
      "INFO:root:simulate: T = 1.0 sample_rate = 52 => steps = 52 vol-scale(52/52) vol 0.0873135992840332 => 0.0873135992840332 mu 0.005344673686849799 = > 0.005344673686849799\n",
      "INFO:root:simulate: T = 1.0 sample_rate = 52 => steps = 52 vol-scale(52/52) vol 0.0873135992840332 => 0.0873135992840332 mu 0.005344673686849799 = > 0.005344673686849799\n"
     ]
    },
    {
     "name": "stdout",
     "output_type": "stream",
     "text": [
      "steps  52\n",
      "steps  52\n"
     ]
    },
    {
     "name": "stderr",
     "output_type": "stream",
     "text": [
      "INFO:root:simulate: T = 1.0 sample_rate = 52 => steps = 52 vol-scale(52/52) vol 0.0873135992840332 => 0.0873135992840332 mu 0.005344673686849799 = > 0.005344673686849799\n"
     ]
    },
    {
     "name": "stdout",
     "output_type": "stream",
     "text": [
      "steps  52\n"
     ]
    },
    {
     "name": "stderr",
     "output_type": "stream",
     "text": [
      "INFO:root:{'spot': 37777.77777777778, 'usd_bsm': 1847.6993712616843, 'usd_bin': 1847.630820987363, 'btc_bin': 0.04083051408224607, 'usd_delta_1': 0.08359401088528082, 'usd_delta_2': 0.08739483155655707, 'btc_delta': 9.89493401068713e-07}\n",
      "INFO:root:simulate: T = 1.0 sample_rate = 52 => steps = 52 vol-scale(52/52) vol 0.0873135992840332 => 0.0873135992840332 mu 0.005344673686849799 = > 0.005344673686849799\n",
      "INFO:root:simulate: T = 1.0 sample_rate = 52 => steps = 52 vol-scale(52/52) vol 0.0873135992840332 => 0.0873135992840332 mu 0.005344673686849799 = > 0.005344673686849799\n"
     ]
    },
    {
     "name": "stdout",
     "output_type": "stream",
     "text": [
      "steps  52\n",
      "steps  52\n"
     ]
    },
    {
     "name": "stderr",
     "output_type": "stream",
     "text": [
      "INFO:root:simulate: T = 1.0 sample_rate = 52 => steps = 52 vol-scale(52/52) vol 0.0873135992840332 => 0.0873135992840332 mu 0.005344673686849799 = > 0.005344673686849799\n"
     ]
    },
    {
     "name": "stdout",
     "output_type": "stream",
     "text": [
      "steps  52\n"
     ]
    },
    {
     "name": "stderr",
     "output_type": "stream",
     "text": [
      "INFO:root:{'spot': 43333.333333333336, 'usd_bsm': 2314.6590828004273, 'usd_bin': 2314.5720500301445, 'btc_bin': 0.04575635971764042, 'usd_delta_1': 0.08444578261862921, 'usd_delta_2': 0.08739483155655707, 'btc_delta': 7.936711689130761e-07}\n",
      "INFO:root:simulate: T = 1.0 sample_rate = 52 => steps = 52 vol-scale(52/52) vol 0.0873135992840332 => 0.0873135992840332 mu 0.005344673686849799 = > 0.005344673686849799\n",
      "INFO:root:simulate: T = 1.0 sample_rate = 52 => steps = 52 vol-scale(52/52) vol 0.0873135992840332 => 0.0873135992840332 mu 0.005344673686849799 = > 0.005344673686849799\n"
     ]
    },
    {
     "name": "stdout",
     "output_type": "stream",
     "text": [
      "steps  52\n",
      "steps  52\n"
     ]
    },
    {
     "name": "stderr",
     "output_type": "stream",
     "text": [
      "INFO:root:simulate: T = 1.0 sample_rate = 52 => steps = 52 vol-scale(52/52) vol 0.0873135992840332 => 0.0873135992840332 mu 0.005344673686849799 = > 0.005344673686849799\n"
     ]
    },
    {
     "name": "stdout",
     "output_type": "stream",
     "text": [
      "steps  52\n"
     ]
    },
    {
     "name": "stderr",
     "output_type": "stream",
     "text": [
      "INFO:root:{'spot': 48888.88888888889, 'usd_bsm': 2785.114001221125, 'usd_bin': 2785.03261965955, 'btc_bin': 0.04973621318339148, 'usd_delta_1': 0.08489494340665062, 'usd_delta_2': 0.08739483155655707, 'btc_delta': 6.457532000985176e-07}\n",
      "INFO:root:simulate: T = 1.0 sample_rate = 52 => steps = 52 vol-scale(52/52) vol 0.0873135992840332 => 0.0873135992840332 mu 0.005344673686849799 = > 0.005344673686849799\n",
      "INFO:root:simulate: T = 1.0 sample_rate = 52 => steps = 52 vol-scale(52/52) vol 0.0873135992840332 => 0.0873135992840332 mu 0.005344673686849799 = > 0.005344673686849799\n"
     ]
    },
    {
     "name": "stdout",
     "output_type": "stream",
     "text": [
      "steps  52\n",
      "steps  52\n"
     ]
    },
    {
     "name": "stderr",
     "output_type": "stream",
     "text": [
      "INFO:root:simulate: T = 1.0 sample_rate = 52 => steps = 52 vol-scale(52/52) vol 0.0873135992840332 => 0.0873135992840332 mu 0.005344673686849799 = > 0.005344673686849799\n"
     ]
    },
    {
     "name": "stdout",
     "output_type": "stream",
     "text": [
      "steps  52\n"
     ]
    },
    {
     "name": "stderr",
     "output_type": "stream",
     "text": [
      "INFO:root:{'spot': 54444.444444444445, 'usd_bsm': 3257.4581150923805, 'usd_bin': 3257.38956849623, 'btc_bin': 0.05299834831215996, 'usd_delta_1': 0.08514291496577088, 'usd_delta_2': 0.08739483155655707, 'btc_delta': 5.330664967719187e-07}\n",
      "INFO:root:simulate: T = 1.0 sample_rate = 52 => steps = 52 vol-scale(52/52) vol 0.0873135992840332 => 0.0873135992840332 mu 0.005344673686849799 = > 0.005344673686849799\n",
      "INFO:root:simulate: T = 1.0 sample_rate = 52 => steps = 52 vol-scale(52/52) vol 0.0873135992840332 => 0.0873135992840332 mu 0.005344673686849799 = > 0.005344673686849799\n"
     ]
    },
    {
     "name": "stdout",
     "output_type": "stream",
     "text": [
      "steps  52\n",
      "steps  52\n"
     ]
    },
    {
     "name": "stderr",
     "output_type": "stream",
     "text": [
      "INFO:root:simulate: T = 1.0 sample_rate = 52 => steps = 52 vol-scale(52/52) vol 0.0873135992840332 => 0.0873135992840332 mu 0.005344673686849799 = > 0.005344673686849799\n"
     ]
    },
    {
     "name": "stdout",
     "output_type": "stream",
     "text": [
      "steps  52\n"
     ]
    },
    {
     "name": "stderr",
     "output_type": "stream",
     "text": [
      "INFO:root:{'spot': 60000.0, 'usd_bsm': 3730.867664046104, 'usd_bin': 3730.808737100647, 'btc_bin': 0.055709757798738296, 'usd_delta_1': 0.08528526704991397, 'usd_delta_2': 0.08739483155655707, 'btc_delta': 4.460759540736063e-07}\n"
     ]
    }
   ],
   "source": [
    "res_lst = []\n",
    "\n",
    "for s in np.linspace(10000, 60000, 10):\n",
    "\n",
    "    m_usd_bsm = machine_npv.MachineNPV_USD_BSM(sp, params)\n",
    "    usd_bsm   = m_usd_bsm.price(start_time, s, hash_rate)\n",
    "\n",
    "    m_usd_bin = machine_npv.MachineNPV_USD_Bin(sp, params)\n",
    "    usd_bin   = m_usd_bin.price(start_time, s, hash_rate, 100)\n",
    "\n",
    "    m_btc_bin = machine_npv.MachineNPV_BTC_Bin(sp, params)\n",
    "    btc_bin   = m_btc_bin.price(start_time, s, hash_rate, 100)\n",
    "    \n",
    "    tmp = {\n",
    "        \"spot\": s,\n",
    "        \"usd_bsm\": usd_bsm,\n",
    "        \"usd_bin\": usd_bin,\n",
    "        \"btc_bin\": btc_bin,\n",
    "        \"usd_delta_1\" : (m_usd_bin._option_df[\"call_delta\"] * m_usd_bin._option_df[\"reward\"]).sum(),\n",
    "        \"usd_delta_2\" : (m_usd_bsm._option_df[\"call_delta\"] * m_usd_bsm._option_df[\"reward\"]).sum(),        \n",
    "        \"btc_delta\" : (m_btc_bin._option_df[\"call_delta\"] * m_btc_bin._option_df[\"reward\"]).sum(),        \n",
    "    }\n",
    "    \n",
    "    logging.info(tmp)\n",
    "    res_lst.append(tmp)"
   ]
  },
  {
   "cell_type": "code",
   "execution_count": 37,
   "metadata": {},
   "outputs": [
    {
     "data": {
      "text/plain": [
       "Text(0, 0.5, 'BTC Value')"
      ]
     },
     "execution_count": 37,
     "metadata": {},
     "output_type": "execute_result"
    },
    {
     "data": {
      "image/png": "[encoded data removed]",
      "text/plain": [
       "<Figure size 640x480 with 2 Axes>"
      ]
     },
     "metadata": {},
     "output_type": "display_data"
    }
   ],
   "source": [
    "df = pd.DataFrame(res_lst)\n",
    "\n",
    "fig, ax = plt.subplots()\n",
    "ax.plot(df.spot, df.usd_bsm, '-')\n",
    "ax.grid()\n",
    "ax.set_ylabel(\"USD Value\")\n",
    "ax1 = ax.twinx()\n",
    "ax1.plot(df.spot, df.btc_bin, color=\"r\", ls='--')\n",
    "ax1.set_ylabel(\"BTC Value\")\n"
   ]
  },
  {
   "cell_type": "code",
   "execution_count": 44,
   "metadata": {},
   "outputs": [
    {
     "data": {
      "text/plain": [
       "[<matplotlib.lines.Line2D at 0x12f1a8b20>]"
      ]
     },
     "execution_count": 44,
     "metadata": {},
     "output_type": "execute_result"
    },
    {
     "data": {
      "image/png": "[encoded data removed]",
      "text/plain": [
       "<Figure size 640x480 with 1 Axes>"
      ]
     },
     "metadata": {},
     "output_type": "display_data"
    }
   ],
   "source": [
    "# plt.plot(df.spot, df.usd_delta_1, '-')\n",
    "\n",
    "# plt.plot(df.spot, df.usd_delta_2, '-')\n",
    "plt.plot(df.spot, df.btc_delta, '-')"
   ]
  },
  {
   "cell_type": "code",
   "execution_count": null,
   "metadata": {},
   "outputs": [],
   "source": []
  },
  {
   "cell_type": "code",
   "execution_count": null,
   "metadata": {
    "scrolled": false
   },
   "outputs": [],
   "source": []
  },
  {
   "cell_type": "code",
   "execution_count": null,
   "metadata": {
    "scrolled": false
   },
   "outputs": [],
   "source": []
  },
  {
   "cell_type": "code",
   "execution_count": null,
   "metadata": {},
   "outputs": [],
   "source": []
  },
  {
   "cell_type": "code",
   "execution_count": null,
   "metadata": {},
   "outputs": [],
   "source": []
  },
  {
   "cell_type": "code",
   "execution_count": null,
   "metadata": {},
   "outputs": [],
   "source": []
  },
  {
   "cell_type": "code",
   "execution_count": null,
   "metadata": {},
   "outputs": [],
   "source": []
  }
 ],
 "metadata": {
  "kernelspec": {
   "display_name": "Python 3 (ipykernel)",
   "language": "python",
   "name": "python3"
  },
  "language_info": {
   "codemirror_mode": {
    "name": "ipython",
    "version": 3
   },
   "file_extension": ".py",
   "mimetype": "text/x-python",
   "name": "python",
   "nbconvert_exporter": "python",
   "pygments_lexer": "ipython3",
   "version": "3.10.10"
  }
 },
 "nbformat": 4,
 "nbformat_minor": 2
}
