{
 "cells": [
  {
   "cell_type": "code",
   "execution_count": 1,
   "metadata": {},
   "outputs": [
    {
     "data": {
      "text/html": [
       "<style>.container { width:100% !important; }</style>"
      ],
      "text/plain": [
       "<IPython.core.display.HTML object>"
      ]
     },
     "metadata": {},
     "output_type": "display_data"
    }
   ],
   "source": [
    "import sys\n",
    "import pandas as pd\n",
    "import matplotlib.pyplot as plt\n",
    "import datetime\n",
    "import logging\n",
    "import requests\n",
    "import datetime as dt\n",
    "import pylab\n",
    "\n",
    "import scipy.stats as stats\n",
    "from matplotlib import pyplot\n",
    "\n",
    "import numpy as np\n",
    "\n",
    "import warnings\n",
    "warnings.filterwarnings('ignore')\n",
    "\n",
    "logging.getLogger().setLevel(logging.INFO)\n",
    "\n",
    "\n",
    "from IPython.display import display, HTML\n",
    "display(HTML(\"<style>.container { width:100% !important; }</style>\"))\n",
    "import os, sys"
   ]
  },
  {
   "cell_type": "code",
   "execution_count": 2,
   "metadata": {},
   "outputs": [],
   "source": [
    "home = os.environ[\"HOME\"]\n",
    "sys.path.append(f\"{home}/Desktop/project-ursa/lib\")\n",
    "\n",
    "import imp"
   ]
  },
  {
   "cell_type": "code",
   "execution_count": 3,
   "metadata": {},
   "outputs": [
    {
     "data": {
      "text/plain": [
       "<module 'machine_npv' from '/Users/merkle-employee/Desktop/project-ursa/lib/machine_npv.py'>"
      ]
     },
     "execution_count": 3,
     "metadata": {},
     "output_type": "execute_result"
    }
   ],
   "source": [
    "import monte_carlo\n",
    "imp.reload(monte_carlo)\n",
    "\n",
    "import data_utils\n",
    "imp.reload(data_utils)\n",
    "\n",
    "# import data_analysis\n",
    "# imp.reload(data_analysis)\n",
    "\n",
    "import mining_constants\n",
    "imp.reload(mining_constants)\n",
    "\n",
    "import machine_npv\n",
    "imp.reload(machine_npv)"
   ]
  },
  {
   "cell_type": "code",
   "execution_count": 4,
   "metadata": {},
   "outputs": [],
   "source": [
    "du = data_utils.DataUtility(\"\")\n",
    "du._raw_network_price_df    = pd.read_csv(\"../../data/raw_network_price.csv\").drop(\"Unnamed: 0\", axis=\"columns\")\n",
    "\n",
    "du._raw_network_price_df.time = pd.to_datetime(du._raw_network_price_df.time)\n",
    "du._df_feature() \n",
    "du._aggregate_weekly_df() \n",
    "\n",
    "machine_prices = data_utils.machine_market_prices(\"../../data/machine_prices.csv\")\n",
    "du._weekly_machine_price_df = du._join_machine_price(machine_prices, HR_ROLLING_AVG=30)\n",
    "\n",
    "weekly_df = du._weekly_network_price_df\n",
    "machine_df = du._weekly_machine_price_df"
   ]
  },
  {
   "cell_type": "code",
   "execution_count": 8,
   "metadata": {},
   "outputs": [
    {
     "data": {
      "text/html": [
       "<div>\n",
       "<style scoped>\n",
       "    .dataframe tbody tr th:only-of-type {\n",
       "        vertical-align: middle;\n",
       "    }\n",
       "\n",
       "    .dataframe tbody tr th {\n",
       "        vertical-align: top;\n",
       "    }\n",
       "\n",
       "    .dataframe thead th {\n",
       "        text-align: right;\n",
       "    }\n",
       "</style>\n",
       "<table border=\"1\" class=\"dataframe\">\n",
       "  <thead>\n",
       "    <tr style=\"text-align: right;\">\n",
       "      <th></th>\n",
       "      <th>close</th>\n",
       "      <th>hashrate</th>\n",
       "      <th>S9</th>\n",
       "      <th>S17</th>\n",
       "      <th>S19J</th>\n",
       "      <th>M20</th>\n",
       "      <th>M30</th>\n",
       "    </tr>\n",
       "    <tr>\n",
       "      <th>time</th>\n",
       "      <th></th>\n",
       "      <th></th>\n",
       "      <th></th>\n",
       "      <th></th>\n",
       "      <th></th>\n",
       "      <th></th>\n",
       "      <th></th>\n",
       "    </tr>\n",
       "  </thead>\n",
       "  <tbody>\n",
       "    <tr>\n",
       "      <th>2020-03-01</th>\n",
       "      <td>8549.38</td>\n",
       "      <td>1.121475e+08</td>\n",
       "      <td>86.0</td>\n",
       "      <td>1371.0</td>\n",
       "      <td>2398.0</td>\n",
       "      <td>1580.0</td>\n",
       "      <td>2593.0</td>\n",
       "    </tr>\n",
       "    <tr>\n",
       "      <th>2020-03-08</th>\n",
       "      <td>8057.67</td>\n",
       "      <td>1.146175e+08</td>\n",
       "      <td>86.0</td>\n",
       "      <td>1371.0</td>\n",
       "      <td>2398.0</td>\n",
       "      <td>1580.0</td>\n",
       "      <td>2593.0</td>\n",
       "    </tr>\n",
       "    <tr>\n",
       "      <th>2020-03-15</th>\n",
       "      <td>5357.02</td>\n",
       "      <td>1.149130e+08</td>\n",
       "      <td>86.0</td>\n",
       "      <td>1371.0</td>\n",
       "      <td>2398.0</td>\n",
       "      <td>1580.0</td>\n",
       "      <td>2593.0</td>\n",
       "    </tr>\n",
       "    <tr>\n",
       "      <th>2020-03-22</th>\n",
       "      <td>5828.15</td>\n",
       "      <td>1.110932e+08</td>\n",
       "      <td>86.0</td>\n",
       "      <td>1371.0</td>\n",
       "      <td>2398.0</td>\n",
       "      <td>1580.0</td>\n",
       "      <td>2593.0</td>\n",
       "    </tr>\n",
       "    <tr>\n",
       "      <th>2020-03-29</th>\n",
       "      <td>5882.20</td>\n",
       "      <td>1.075877e+08</td>\n",
       "      <td>86.0</td>\n",
       "      <td>1371.0</td>\n",
       "      <td>2398.0</td>\n",
       "      <td>1580.0</td>\n",
       "      <td>2593.0</td>\n",
       "    </tr>\n",
       "  </tbody>\n",
       "</table>\n",
       "</div>"
      ],
      "text/plain": [
       "              close      hashrate    S9     S17    S19J     M20     M30\n",
       "time                                                                   \n",
       "2020-03-01  8549.38  1.121475e+08  86.0  1371.0  2398.0  1580.0  2593.0\n",
       "2020-03-08  8057.67  1.146175e+08  86.0  1371.0  2398.0  1580.0  2593.0\n",
       "2020-03-15  5357.02  1.149130e+08  86.0  1371.0  2398.0  1580.0  2593.0\n",
       "2020-03-22  5828.15  1.110932e+08  86.0  1371.0  2398.0  1580.0  2593.0\n",
       "2020-03-29  5882.20  1.075877e+08  86.0  1371.0  2398.0  1580.0  2593.0"
      ]
     },
     "execution_count": 8,
     "metadata": {},
     "output_type": "execute_result"
    }
   ],
   "source": [
    "machine_df.head()"
   ]
  },
  {
   "cell_type": "code",
   "execution_count": 19,
   "metadata": {},
   "outputs": [
    {
     "data": {
      "text/plain": [
       "time        2020-05-24 00:00:00\n",
       "close                   8718.49\n",
       "hashrate        108207711.33243\n",
       "S9                         47.0\n",
       "S17                      1432.0\n",
       "S19J                     2220.0\n",
       "M20                      1550.0\n",
       "M30                      2199.0\n",
       "Name: 12, dtype: object"
      ]
     },
     "execution_count": 19,
     "metadata": {},
     "output_type": "execute_result"
    }
   ],
   "source": [
    "# weekly_df.head()\n",
    "\n",
    "k = 12\n",
    "\n",
    "machine_df.reset_index().loc[k]"
   ]
  },
  {
   "cell_type": "code",
   "execution_count": 6,
   "metadata": {},
   "outputs": [
    {
     "name": "stdout",
     "output_type": "stream",
     "text": [
      "{'week': datetime.date(2020, 5, 29), 'hashrate': 96230090.0172778, 'hash-index': 0.08532176665573224, 'btc-close': 9122.801428571429}\n"
     ]
    }
   ],
   "source": [
    "## \n",
    "sp = monte_carlo.GBMPriceLinearHashRate()\n",
    "sp.fit(weekly_df, sample_rate=mining_constants.SAMPLE_RATE_WEEKLY)\n",
    "\n",
    "## \n",
    "k = 134\n",
    "\n",
    "start_time = weekly_df.reset_index().loc[k, \"time\"]\n",
    "hash_rate  = weekly_df.reset_index().loc[k, \"hashrate\"]\n",
    "hash_index = weekly_df.reset_index().loc[k, \"hash_index\"]\n",
    "btc_close  = weekly_df.reset_index().loc[k, \"close\"]\n",
    "\n",
    "print({\"week\": start_time, \"hashrate\": hash_rate, \"hash-index\": hash_index, \"btc-close\": btc_close})"
   ]
  },
  {
   "cell_type": "code",
   "execution_count": 7,
   "metadata": {},
   "outputs": [
    {
     "data": {
      "text/plain": [
       "1411.1146856517678"
      ]
     },
     "execution_count": 7,
     "metadata": {},
     "output_type": "execute_result"
    }
   ],
   "source": [
    "machine_params = mining_constants.machine_params()\n",
    "ky = mining_constants.MACHINE_M20\n",
    "params = {\n",
    "    \"asic_energy_consumption\" : machine_params[ky][\"energy_consumption\"],\n",
    "    \"asic_hash_rate\"          : machine_params[ky][\"hash_rate\"],\n",
    "    \"electricity_cost\"        : 0.05,\n",
    "    \"machine_duration\"        : 7,\n",
    "    \"sample_rate\"             : mining_constants.SAMPLE_RATE_WEEKLY,\n",
    "    \"mc_size\"                 : 10000,\n",
    "    \"interest_rate\"           : 0.05,\n",
    "    \"asic_number\"             : 1,\n",
    "    \"asic_efficiency\"         : 1.0,\n",
    "    \"pool_fee\"                : 0.005,\n",
    "    \"analysis_denomination\"   : mining_constants.ASSET_USD\n",
    "}\n",
    "\n",
    "## BSM Closed Form.\n",
    "sp = monte_carlo.GBMPriceLinearHashRate()\n",
    "sp.fit(weekly_df, sample_rate=mining_constants.SAMPLE_RATE_WEEKLY)\n",
    "\n",
    "m_usd_bsm = machine_npv.MachineNPV_USD_BSM(sp, params)\n",
    "usd_bsm   = m_usd_bsm.price(start_time, btc_close, hash_rate)\n",
    "\n",
    "usd_bsm"
   ]
  },
  {
   "cell_type": "code",
   "execution_count": null,
   "metadata": {},
   "outputs": [],
   "source": [
    "m_usd_bsm._option_df.head()"
   ]
  },
  {
   "cell_type": "code",
   "execution_count": 31,
   "metadata": {
    "scrolled": false
   },
   "outputs": [
    {
     "name": "stderr",
     "output_type": "stream",
     "text": [
      "No artists with labels found to put in legend.  Note that artists whose label start with an underscore are ignored when legend() is called with no argument.\n"
     ]
    },
    {
     "data": {
      "image/png": "[encoded data removed]",
      "text/plain": [
       "<Figure size 1600x300 with 3 Axes>"
      ]
     },
     "metadata": {},
     "output_type": "display_data"
    }
   ],
   "source": [
    "plt.figure(figsize=(16, 3))\n",
    "\n",
    "plt.subplot(1, 3, 1)\n",
    "plt.plot(m_usd_bsm._option_df.ttm, m_usd_bsm._option_df.reward)\n",
    "plt.xlabel(\"Mining Duration [Years]\")\n",
    "plt.ylabel(\"Weekly BTC Reward\")\n",
    "plt.legend()\n",
    "plt.grid()\n",
    "\n",
    "plt.subplot(1, 3, 2)\n",
    "plt.plot(m_usd_bsm._option_df.ttm, m_usd_bsm._option_df.strike/1000, label=\"Strike Price\")\n",
    "plt.plot(m_usd_bsm._option_df.ttm, m_usd_bsm._option_df.spot/1000, ls=\"--\", color=\"green\", label=\"Spot Price\")\n",
    "plt.xlabel(\"Mining Duration [Years]\")\n",
    "plt.ylabel(\"USD x 1000\")\n",
    "plt.legend()\n",
    "plt.grid()\n",
    "\n",
    "plt.subplot(1, 3, 3)\n",
    "plt.plot(m_usd_bsm._option_df.ttm, m_usd_bsm._option_df.reward_value.cumsum(), label=\"Value Function\")\n",
    "plt.axhline(1550.0, ls=\"--\", label=\"Machine Price\", color=\"green\")\n",
    "plt.xlabel(\"Mining Duration [Years]\")\n",
    "plt.ylabel(\"USD\")\n",
    "plt.legend()\n",
    "plt.grid()\n",
    "\n"
   ]
  },
  {
   "cell_type": "code",
   "execution_count": 36,
   "metadata": {},
   "outputs": [
    {
     "data": {
      "text/plain": [
       "3.1239669421487606"
      ]
     },
     "execution_count": 36,
     "metadata": {},
     "output_type": "execute_result"
    }
   ],
   "source": [
    "idx = m_usd_bsm._option_df.reward_value.cumsum() < m_usd_bsm._option_df.reward_value.sum() * 0.75\n",
    "m_usd_bsm._option_df.ttm[idx].max()"
   ]
  },
  {
   "cell_type": "code",
   "execution_count": null,
   "metadata": {},
   "outputs": [],
   "source": []
  },
  {
   "cell_type": "code",
   "execution_count": null,
   "metadata": {},
   "outputs": [],
   "source": []
  },
  {
   "cell_type": "code",
   "execution_count": null,
   "metadata": {},
   "outputs": [],
   "source": []
  },
  {
   "cell_type": "code",
   "execution_count": null,
   "metadata": {},
   "outputs": [],
   "source": []
  },
  {
   "cell_type": "code",
   "execution_count": null,
   "metadata": {},
   "outputs": [],
   "source": []
  }
 ],
 "metadata": {
  "kernelspec": {
   "display_name": "Python 3 (ipykernel)",
   "language": "python",
   "name": "python3"
  },
  "language_info": {
   "codemirror_mode": {
    "name": "ipython",
    "version": 3
   },
   "file_extension": ".py",
   "mimetype": "text/x-python",
   "name": "python",
   "nbconvert_exporter": "python",
   "pygments_lexer": "ipython3",
   "version": "3.10.10"
  }
 },
 "nbformat": 4,
 "nbformat_minor": 2
}
