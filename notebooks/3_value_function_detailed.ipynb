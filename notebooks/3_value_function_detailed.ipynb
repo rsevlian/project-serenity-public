{
 "cells": [
  {
   "cell_type": "code",
   "execution_count": 1,
   "metadata": {},
   "outputs": [
    {
     "data": {
      "text/html": [
       "<style>.container { width:100% !important; }</style>"
      ],
      "text/plain": [
       "<IPython.core.display.HTML object>"
      ]
     },
     "metadata": {},
     "output_type": "display_data"
    }
   ],
   "source": [
    "import sys\n",
    "import pandas as pd\n",
    "import matplotlib.pyplot as plt\n",
    "import datetime\n",
    "import logging\n",
    "import requests\n",
    "import datetime as dt\n",
    "import pylab\n",
    "\n",
    "import scipy.stats as stats\n",
    "from matplotlib import pyplot\n",
    "\n",
    "import numpy as np\n",
    "\n",
    "import warnings\n",
    "warnings.filterwarnings('ignore')\n",
    "\n",
    "logging.getLogger().setLevel(logging.INFO)\n",
    "\n",
    "\n",
    "from IPython.display import display, HTML\n",
    "display(HTML(\"<style>.container { width:100% !important; }</style>\"))\n",
    "import os, sys"
   ]
  },
  {
   "cell_type": "code",
   "execution_count": 2,
   "metadata": {},
   "outputs": [],
   "source": [
    "home = os.environ[\"HOME\"]\n",
    "sys.path.append(f\"{home}/Desktop/project-ursa/lib\")\n",
    "\n",
    "import imp"
   ]
  },
  {
   "cell_type": "code",
   "execution_count": 3,
   "metadata": {},
   "outputs": [
    {
     "data": {
      "text/plain": [
       "<module 'machine_npv' from '/Users/merkle-employee/Desktop/project-ursa/lib/machine_npv.py'>"
      ]
     },
     "execution_count": 3,
     "metadata": {},
     "output_type": "execute_result"
    }
   ],
   "source": [
    "import monte_carlo\n",
    "imp.reload(monte_carlo)\n",
    "\n",
    "import data_utils\n",
    "imp.reload(data_utils)\n",
    "\n",
    "# import data_analysis\n",
    "# imp.reload(data_analysis)\n",
    "\n",
    "import mining_constants\n",
    "imp.reload(mining_constants)\n",
    "\n",
    "import machine_npv\n",
    "imp.reload(machine_npv)"
   ]
  },
  {
   "cell_type": "code",
   "execution_count": null,
   "metadata": {},
   "outputs": [],
   "source": [
    "du = data_utils.DataUtility(\"cc_key\")\n",
    "\n",
    "##\n",
    "du._raw_network_price_df = pd.read_csv(\"../../data/raw_network_price.csv\").drop(\"Unnamed: 0\", axis=\"columns\")\n",
    "du._raw_network_price_df.time = pd.to_datetime(du._raw_network_price_df.time)\n",
    "du._df_feature() \n",
    "du._aggregate_weekly_df() \n",
    "\n",
    "daily_df  = du._daily_network_price_df\n",
    "weekly_df = du._weekly_network_price_df\n",
    "\n",
    "## \n",
    "sp = monte_carlo.GBMPriceLinearHashRate()\n",
    "sp.fit(weekly_df, sample_rate=mining_constants.SAMPLE_RATE_WEEKLY)\n",
    "\n",
    "## \n",
    "k = 170\n",
    "\n",
    "start_time = weekly_df.reset_index().loc[k, \"time\"]\n",
    "hash_rate  = weekly_df.reset_index().loc[k, \"hashrate\"]\n",
    "hash_index = weekly_df.reset_index().loc[k, \"hash_index\"]\n",
    "btc_close  = weekly_df.reset_index().loc[k, \"close\"]\n",
    "\n",
    "print({\"week\": start_time, \"hashrate\": hash_rate, \"hash-index\": hash_index, \"btc-close\": btc_close})\n"
   ]
  },
  {
   "cell_type": "code",
   "execution_count": null,
   "metadata": {},
   "outputs": [],
   "source": [
    "machine_params   = mining_constants.machine_params()\n",
    "md_lst = np.linspace(1, 5, 30)\n",
    "\n",
    "res_lst = []\n",
    "md = 4\n",
    "\n",
    "ky = \"M20\"\n",
    "params = {\n",
    "    \"asic_energy_consumption\" : machine_params[ky][\"energy_consumption\"],\n",
    "    \"asic_hash_rate\"          : machine_params[ky][\"hash_rate\"],\n",
    "    \"electricity_cost\"        : 0.05,\n",
    "    \"machine_duration\"        : md,\n",
    "    \"sample_rate\"             : mining_constants.SAMPLE_RATE_WEEKLY,\n",
    "    \"mc_size\"                 : 10000,\n",
    "    \"interest_rate\"           : 0.05,\n",
    "    \"asic_number\"             : 1,\n",
    "    \"asic_efficiency\"         : 1.0,\n",
    "    \"pool_fee\"                : 0.005,\n",
    "    \"analysis_denomination\"   : mining_constants.ASSET_USD\n",
    "}\n",
    "\n",
    "## BSM Closed Form.\n",
    "sp = monte_carlo.GBMPriceLinearHashRate()\n",
    "sp.fit(weekly_df, sample_rate=mining_constants.SAMPLE_RATE_WEEKLY)\n",
    "\n",
    "m_usd_bsm = machine_npv.MachineNPV_USD_BSM(sp, params)\n",
    "usd_bsm   = m_usd_bsm.price(start_time, btc_close, hash_rate)\n",
    "\n",
    "## BSM Binomial Lattice.\n",
    "sp = monte_carlo.GBMPriceLinearHashRate()\n",
    "sp.fit(weekly_df, sample_rate=mining_constants.SAMPLE_RATE_WEEKLY)\n",
    "\n",
    "m_usd_bin = machine_npv.MachineNPV_USD_Bin(sp, params)\n",
    "usd_bin   = m_usd_bin.price(start_time, btc_close, hash_rate, 100)\n",
    "\n",
    "## MC RND = BSM Model\n",
    "sp = monte_carlo.GBMPriceLinearHashRate()\n",
    "sp.fit(weekly_df, sample_rate=mining_constants.SAMPLE_RATE_WEEKLY)\n",
    "\n",
    "m_usd_mc_rnd = machine_npv.MachineNPV_MCSim(sp, params)\n",
    "usd_mc_rnd   = m_usd_mc_rnd.price(start_time, btc_close, hash_rate, mu_annual=params[\"interest_rate\"])\n",
    "\n",
    "logging.info(usd_bin, usd_bsm, usd_mc_rnd)"
   ]
  },
  {
   "cell_type": "code",
   "execution_count": null,
   "metadata": {
    "scrolled": true
   },
   "outputs": [],
   "source": [
    "import machine_npv\n",
    "imp.reload(machine_npv)\n",
    "\n",
    "machine_params   = mining_constants.machine_params()\n",
    "md_lst = np.linspace(0.5, 10, 30)\n",
    "\n",
    "res_lst = []\n",
    "for md in md_lst:\n",
    "\n",
    "    ky = \"M20\"\n",
    "    params = {\n",
    "        \"asic_energy_consumption\" : machine_params[ky][\"energy_consumption\"],\n",
    "        \"asic_hash_rate\"          : machine_params[ky][\"hash_rate\"],\n",
    "        \"electricity_cost\"        : 0.05,\n",
    "        \"machine_duration\"        : md,\n",
    "        \"sample_rate\"             : mining_constants.SAMPLE_RATE_WEEKLY,\n",
    "        \"mc_size\"                 : 10000,\n",
    "        \"interest_rate\"           : 0.05,\n",
    "        \"asic_number\"             : 1,\n",
    "        \"asic_efficiency\"         : 1.0,\n",
    "        \"pool_fee\"                : 0.005,\n",
    "        \"analysis_denomination\"   : mining_constants.ASSET_USD\n",
    "    }\n",
    "\n",
    "    ## Deterministic\n",
    "    sp = monte_carlo.GBMPriceLinearHashRate()\n",
    "    sp.fit(weekly_df, sample_rate=mining_constants.SAMPLE_RATE_WEEKLY)\n",
    "\n",
    "    sp._gbm_params[\"sigma\"] = 0.01\n",
    "\n",
    "    m_usd_detrm = machine_npv.MachineNPV_USD_BSM(sp, params)\n",
    "    usd_detrm   = m_usd_detrm.price(start_time, btc_close, hash_rate)\n",
    "\n",
    "    ## BSM Closed Form.\n",
    "    sp = monte_carlo.GBMPriceLinearHashRate()\n",
    "    sp.fit(weekly_df, sample_rate=mining_constants.SAMPLE_RATE_WEEKLY)\n",
    "\n",
    "    m_usd_bsm = machine_npv.MachineNPV_USD_BSM(sp, params)\n",
    "    usd_bsm   = m_usd_bsm.price(start_time, btc_close, hash_rate)\n",
    "\n",
    "    tmp = {\n",
    "        \"machine_duration\": md,\n",
    "        \"usd_bsm\"         : usd_bsm,\n",
    "        \"usd_detrm\"       : usd_detrm\n",
    "    }\n",
    "    logging.info(tmp)\n",
    "    res_lst.append(tmp)\n",
    "\n",
    "df = pd.DataFrame(res_lst)"
   ]
  },
  {
   "cell_type": "code",
   "execution_count": null,
   "metadata": {},
   "outputs": [],
   "source": []
  },
  {
   "cell_type": "code",
   "execution_count": null,
   "metadata": {},
   "outputs": [],
   "source": [
    "plt.plot(df.machine_duration, df.usd_bsm, '.-')\n",
    "plt.plot(df.machine_duration, df.usd_detrm, '.-')"
   ]
  },
  {
   "cell_type": "code",
   "execution_count": null,
   "metadata": {},
   "outputs": [],
   "source": [
    "imp.reload(monte_carlo)\n",
    "sp = monte_carlo.GBMPriceLinearHashRate()\n",
    "sp.fit(weekly_df, sample_rate=mining_constants.SAMPLE_RATE_WEEKLY)\n",
    "\n",
    "sp._gbm_params[\"sigma\"] = 0.01\n",
    "\n",
    "m_usd_detrm = machine_npv.MachineNPV_USD_BSM(sp, params)\n",
    "usd_detrm   = m_usd_detrm.price(start_time, btc_close, hash_rate)\n"
   ]
  },
  {
   "cell_type": "code",
   "execution_count": null,
   "metadata": {},
   "outputs": [],
   "source": [
    "m_usd_detrm._option_df.reward\n"
   ]
  },
  {
   "cell_type": "code",
   "execution_count": null,
   "metadata": {},
   "outputs": [],
   "source": []
  }
 ],
 "metadata": {
  "kernelspec": {
   "display_name": "Python 3 (ipykernel)",
   "language": "python",
   "name": "python3"
  },
  "language_info": {
   "codemirror_mode": {
    "name": "ipython",
    "version": 3
   },
   "file_extension": ".py",
   "mimetype": "text/x-python",
   "name": "python",
   "nbconvert_exporter": "python",
   "pygments_lexer": "ipython3",
   "version": "3.10.10"
  }
 },
 "nbformat": 4,
 "nbformat_minor": 2
}
