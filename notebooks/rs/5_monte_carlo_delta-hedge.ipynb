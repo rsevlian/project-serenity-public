{
 "cells": [
  {
   "cell_type": "code",
   "execution_count": 2,
   "metadata": {},
   "outputs": [
    {
     "data": {
      "text/html": [
       "<style>.container { width:100% !important; }</style>"
      ],
      "text/plain": [
       "<IPython.core.display.HTML object>"
      ]
     },
     "metadata": {},
     "output_type": "display_data"
    },
    {
     "data": {
      "text/plain": [
       "{'divide': 'warn', 'over': 'warn', 'under': 'ignore', 'invalid': 'warn'}"
      ]
     },
     "execution_count": 2,
     "metadata": {},
     "output_type": "execute_result"
    }
   ],
   "source": [
    "import sys\n",
    "import pandas as pd\n",
    "import matplotlib.pyplot as plt\n",
    "import datetime\n",
    "import logging\n",
    "import requests\n",
    "import datetime as dt\n",
    "import pylab\n",
    "\n",
    "import scipy.stats as stats\n",
    "from matplotlib import pyplot\n",
    "\n",
    "import numpy as np\n",
    "\n",
    "import warnings\n",
    "warnings.filterwarnings('ignore')\n",
    "\n",
    "logging.getLogger().setLevel(logging.INFO)\n",
    "\n",
    "from IPython.display import display, HTML\n",
    "display(HTML(\"<style>.container { width:100% !important; }</style>\"))\n",
    "import os, sys\n",
    "\n",
    "home = os.environ[\"HOME\"]\n",
    "sys.path.append(f\"{home}/Desktop/project-ursa/lib\")\n",
    "import imp\n",
    "\n",
    "np.seterr(divide = 'ignore') \n"
   ]
  },
  {
   "cell_type": "code",
   "execution_count": 3,
   "metadata": {},
   "outputs": [
    {
     "data": {
      "text/plain": [
       "<module 'delta_hedge' from '/Users/merkle-employee/Desktop/project-ursa/lib/delta_hedge.py'>"
      ]
     },
     "execution_count": 3,
     "metadata": {},
     "output_type": "execute_result"
    }
   ],
   "source": [
    "import bsm_utils\n",
    "imp.reload(bsm_utils)\n",
    "\n",
    "import delta_hedge\n",
    "imp.reload(delta_hedge)"
   ]
  },
  {
   "cell_type": "code",
   "execution_count": 4,
   "metadata": {},
   "outputs": [
    {
     "data": {
      "text/plain": [
       "<module 'backtest' from '/Users/merkle-employee/Desktop/project-ursa/lib/backtest.py'>"
      ]
     },
     "execution_count": 4,
     "metadata": {},
     "output_type": "execute_result"
    }
   ],
   "source": [
    "import mining_constants\n",
    "imp.reload(mining_constants)\n",
    "\n",
    "import backtest\n",
    "imp.reload(backtest)"
   ]
  },
  {
   "cell_type": "code",
   "execution_count": 14,
   "metadata": {
    "scrolled": false
   },
   "outputs": [
    {
     "name": "stderr",
     "output_type": "stream",
     "text": [
      "INFO:root:mc_params = {'S': 100, 'K': 100, 'T': 0.019230769230769232, 'mc_size': 500, 'sigma_iv': 0.4, 'sigma_rv': 0.4, 'interest_rate': 0.02, 'Q': 100000, 'contract_direction': 'DIRECTION_LONG', 'contract_type': 'CONTRACT_CALL_OPTION', 'sample_rate': 8760, 'risk_free_rate': 0.02, 'slippage': 0.0001}\n",
      "/Users/merkle-employee/Desktop/project-ursa/lib/bsm_utils.py:18: RuntimeWarning: divide by zero encountered in divide\n",
      "  d1 = (np.log(S / K) + (r + (sigma**2) / 2) * T) / (sigma * np.sqrt(T))\n"
     ]
    }
   ],
   "source": [
    "import delta_hedge\n",
    "imp.reload(delta_hedge)\n",
    "\n",
    "import backtest\n",
    "imp.reload(backtest)\n",
    "\n",
    "mc_params = {\n",
    "    \"S\": 100,\n",
    "    \"K\": 100,\n",
    "    \"T\": 1/52,\n",
    "    \"mc_size\": 500, \n",
    "    \"sigma_iv\": 0.4, \n",
    "    \"sigma_rv\": 0.4,\n",
    "    \"interest_rate\" : 0.02,\n",
    "    \"Q\": 100000, \n",
    "    \"contract_direction\": mining_constants.DIRECTION_LONG_CONTRACT, \n",
    "    \"contract_type\": mining_constants.CONTRACT_CALL_OPTION, \n",
    "    \"sample_rate\": mining_constants.SAMPLE_RATE_HOURLY, \n",
    "    \"risk_free_rate\": 0.02,  \n",
    "    \"slippage\": 0.0001\n",
    "}\n",
    "\n",
    "np.random.seed(0)\n",
    "mcb = backtest.MonteCarloBacktest(mc_params)\n",
    "sim_df = mcb.price_model()\n"
   ]
  },
  {
   "cell_type": "code",
   "execution_count": 15,
   "metadata": {},
   "outputs": [
    {
     "data": {
      "text/plain": [
       "<matplotlib.lines.Line2D at 0x11e4db0a0>"
      ]
     },
     "execution_count": 15,
     "metadata": {},
     "output_type": "execute_result"
    },
    {
     "data": {
      "image/png": "[encoded data removed]",
      "text/plain": [
       "<Figure size 640x480 with 1 Axes>"
      ]
     },
     "metadata": {},
     "output_type": "display_data"
    }
   ],
   "source": [
    "_ = plt.hist(sim_df.hedging_cost, bins=100)\n",
    "plt.axvline(sim_df.agg_bsm_price.mean(), color=\"r\")"
   ]
  },
  {
   "cell_type": "code",
   "execution_count": 20,
   "metadata": {
    "scrolled": false
   },
   "outputs": [],
   "source": [
    "# sim_df.hedging_cost.mean()"
   ]
  },
  {
   "cell_type": "code",
   "execution_count": 21,
   "metadata": {},
   "outputs": [],
   "source": [
    "# sim_df.hedging_cost.std()"
   ]
  },
  {
   "cell_type": "code",
   "execution_count": 22,
   "metadata": {},
   "outputs": [
    {
     "data": {
      "text/html": [
       "<div>\n",
       "<style scoped>\n",
       "    .dataframe tbody tr th:only-of-type {\n",
       "        vertical-align: middle;\n",
       "    }\n",
       "\n",
       "    .dataframe tbody tr th {\n",
       "        vertical-align: top;\n",
       "    }\n",
       "\n",
       "    .dataframe thead th {\n",
       "        text-align: right;\n",
       "    }\n",
       "</style>\n",
       "<table border=\"1\" class=\"dataframe\">\n",
       "  <thead>\n",
       "    <tr style=\"text-align: right;\">\n",
       "      <th></th>\n",
       "      <th>ITM</th>\n",
       "      <th>Final Spot</th>\n",
       "      <th>strike</th>\n",
       "      <th>purchase_cost</th>\n",
       "      <th>purchase_cost_no_loss</th>\n",
       "      <th>hedging_cost</th>\n",
       "      <th>hedging_cost_no_loss</th>\n",
       "      <th>expiry_cashflow</th>\n",
       "      <th>bsm_price</th>\n",
       "      <th>agg_bsm_price</th>\n",
       "      <th>df</th>\n",
       "    </tr>\n",
       "  </thead>\n",
       "  <tbody>\n",
       "    <tr>\n",
       "      <th>0</th>\n",
       "      <td>False</td>\n",
       "      <td>99.518338</td>\n",
       "      <td>100</td>\n",
       "      <td>2.108624e+05</td>\n",
       "      <td>2.183473e+05</td>\n",
       "      <td>210862.396896</td>\n",
       "      <td>218347.279448</td>\n",
       "      <td>0.000000e+00</td>\n",
       "      <td>2.230647</td>\n",
       "      <td>223064.66378</td>\n",
       "      <td>t     delta       price  slippage ...</td>\n",
       "    </tr>\n",
       "    <tr>\n",
       "      <th>1</th>\n",
       "      <td>False</td>\n",
       "      <td>93.446667</td>\n",
       "      <td>100</td>\n",
       "      <td>2.451079e+05</td>\n",
       "      <td>2.509122e+05</td>\n",
       "      <td>245107.911185</td>\n",
       "      <td>250912.211363</td>\n",
       "      <td>0.000000e+00</td>\n",
       "      <td>2.230647</td>\n",
       "      <td>223064.66378</td>\n",
       "      <td>t         delta       price  slipp...</td>\n",
       "    </tr>\n",
       "    <tr>\n",
       "      <th>2</th>\n",
       "      <td>True</td>\n",
       "      <td>102.458861</td>\n",
       "      <td>100</td>\n",
       "      <td>1.022427e+07</td>\n",
       "      <td>1.022902e+07</td>\n",
       "      <td>228115.105974</td>\n",
       "      <td>232866.157531</td>\n",
       "      <td>-9.996155e+06</td>\n",
       "      <td>2.230647</td>\n",
       "      <td>223064.66378</td>\n",
       "      <td>t     delta       price  slippage ...</td>\n",
       "    </tr>\n",
       "    <tr>\n",
       "      <th>3</th>\n",
       "      <td>False</td>\n",
       "      <td>96.980851</td>\n",
       "      <td>100</td>\n",
       "      <td>2.130384e+05</td>\n",
       "      <td>2.186012e+05</td>\n",
       "      <td>213038.354190</td>\n",
       "      <td>218601.155001</td>\n",
       "      <td>0.000000e+00</td>\n",
       "      <td>2.230647</td>\n",
       "      <td>223064.66378</td>\n",
       "      <td>t         delta       price  slipp...</td>\n",
       "    </tr>\n",
       "    <tr>\n",
       "      <th>4</th>\n",
       "      <td>False</td>\n",
       "      <td>99.368096</td>\n",
       "      <td>100</td>\n",
       "      <td>2.189578e+05</td>\n",
       "      <td>2.229491e+05</td>\n",
       "      <td>218957.780384</td>\n",
       "      <td>222949.108709</td>\n",
       "      <td>0.000000e+00</td>\n",
       "      <td>2.230647</td>\n",
       "      <td>223064.66378</td>\n",
       "      <td>t     delta       price  slippage ...</td>\n",
       "    </tr>\n",
       "    <tr>\n",
       "      <th>...</th>\n",
       "      <td>...</td>\n",
       "      <td>...</td>\n",
       "      <td>...</td>\n",
       "      <td>...</td>\n",
       "      <td>...</td>\n",
       "      <td>...</td>\n",
       "      <td>...</td>\n",
       "      <td>...</td>\n",
       "      <td>...</td>\n",
       "      <td>...</td>\n",
       "      <td>...</td>\n",
       "    </tr>\n",
       "    <tr>\n",
       "      <th>495</th>\n",
       "      <td>True</td>\n",
       "      <td>102.396059</td>\n",
       "      <td>100</td>\n",
       "      <td>1.022058e+07</td>\n",
       "      <td>1.022722e+07</td>\n",
       "      <td>224422.683775</td>\n",
       "      <td>231062.377246</td>\n",
       "      <td>-9.996155e+06</td>\n",
       "      <td>2.230647</td>\n",
       "      <td>223064.66378</td>\n",
       "      <td>t     delta       price  slippage ...</td>\n",
       "    </tr>\n",
       "    <tr>\n",
       "      <th>496</th>\n",
       "      <td>False</td>\n",
       "      <td>99.234956</td>\n",
       "      <td>100</td>\n",
       "      <td>1.980597e+05</td>\n",
       "      <td>2.036053e+05</td>\n",
       "      <td>198059.674794</td>\n",
       "      <td>203605.340696</td>\n",
       "      <td>0.000000e+00</td>\n",
       "      <td>2.230647</td>\n",
       "      <td>223064.66378</td>\n",
       "      <td>t     delta       price  slippage ...</td>\n",
       "    </tr>\n",
       "    <tr>\n",
       "      <th>497</th>\n",
       "      <td>False</td>\n",
       "      <td>97.302581</td>\n",
       "      <td>100</td>\n",
       "      <td>2.151828e+05</td>\n",
       "      <td>2.208581e+05</td>\n",
       "      <td>215182.788835</td>\n",
       "      <td>220858.127819</td>\n",
       "      <td>0.000000e+00</td>\n",
       "      <td>2.230647</td>\n",
       "      <td>223064.66378</td>\n",
       "      <td>t         delta       price  slipp...</td>\n",
       "    </tr>\n",
       "    <tr>\n",
       "      <th>498</th>\n",
       "      <td>False</td>\n",
       "      <td>99.957853</td>\n",
       "      <td>100</td>\n",
       "      <td>1.522464e+05</td>\n",
       "      <td>1.587711e+05</td>\n",
       "      <td>152246.431687</td>\n",
       "      <td>158771.071682</td>\n",
       "      <td>0.000000e+00</td>\n",
       "      <td>2.230647</td>\n",
       "      <td>223064.66378</td>\n",
       "      <td>t     delta       price  slippage ...</td>\n",
       "    </tr>\n",
       "    <tr>\n",
       "      <th>499</th>\n",
       "      <td>False</td>\n",
       "      <td>95.390501</td>\n",
       "      <td>100</td>\n",
       "      <td>2.296343e+05</td>\n",
       "      <td>2.345733e+05</td>\n",
       "      <td>229634.331433</td>\n",
       "      <td>234573.341796</td>\n",
       "      <td>0.000000e+00</td>\n",
       "      <td>2.230647</td>\n",
       "      <td>223064.66378</td>\n",
       "      <td>t         delta       price  slipp...</td>\n",
       "    </tr>\n",
       "  </tbody>\n",
       "</table>\n",
       "<p>500 rows × 11 columns</p>\n",
       "</div>"
      ],
      "text/plain": [
       "       ITM  Final Spot  strike  purchase_cost  purchase_cost_no_loss   \n",
       "0    False   99.518338     100   2.108624e+05           2.183473e+05  \\\n",
       "1    False   93.446667     100   2.451079e+05           2.509122e+05   \n",
       "2     True  102.458861     100   1.022427e+07           1.022902e+07   \n",
       "3    False   96.980851     100   2.130384e+05           2.186012e+05   \n",
       "4    False   99.368096     100   2.189578e+05           2.229491e+05   \n",
       "..     ...         ...     ...            ...                    ...   \n",
       "495   True  102.396059     100   1.022058e+07           1.022722e+07   \n",
       "496  False   99.234956     100   1.980597e+05           2.036053e+05   \n",
       "497  False   97.302581     100   2.151828e+05           2.208581e+05   \n",
       "498  False   99.957853     100   1.522464e+05           1.587711e+05   \n",
       "499  False   95.390501     100   2.296343e+05           2.345733e+05   \n",
       "\n",
       "      hedging_cost  hedging_cost_no_loss  expiry_cashflow  bsm_price   \n",
       "0    210862.396896         218347.279448     0.000000e+00   2.230647  \\\n",
       "1    245107.911185         250912.211363     0.000000e+00   2.230647   \n",
       "2    228115.105974         232866.157531    -9.996155e+06   2.230647   \n",
       "3    213038.354190         218601.155001     0.000000e+00   2.230647   \n",
       "4    218957.780384         222949.108709     0.000000e+00   2.230647   \n",
       "..             ...                   ...              ...        ...   \n",
       "495  224422.683775         231062.377246    -9.996155e+06   2.230647   \n",
       "496  198059.674794         203605.340696     0.000000e+00   2.230647   \n",
       "497  215182.788835         220858.127819     0.000000e+00   2.230647   \n",
       "498  152246.431687         158771.071682     0.000000e+00   2.230647   \n",
       "499  229634.331433         234573.341796     0.000000e+00   2.230647   \n",
       "\n",
       "     agg_bsm_price                                                 df  \n",
       "0     223064.66378              t     delta       price  slippage ...  \n",
       "1     223064.66378              t         delta       price  slipp...  \n",
       "2     223064.66378              t     delta       price  slippage ...  \n",
       "3     223064.66378              t         delta       price  slipp...  \n",
       "4     223064.66378              t     delta       price  slippage ...  \n",
       "..             ...                                                ...  \n",
       "495   223064.66378              t     delta       price  slippage ...  \n",
       "496   223064.66378              t     delta       price  slippage ...  \n",
       "497   223064.66378              t         delta       price  slipp...  \n",
       "498   223064.66378              t     delta       price  slippage ...  \n",
       "499   223064.66378              t         delta       price  slipp...  \n",
       "\n",
       "[500 rows x 11 columns]"
      ]
     },
     "execution_count": 22,
     "metadata": {},
     "output_type": "execute_result"
    }
   ],
   "source": [
    "res"
   ]
  },
  {
   "cell_type": "code",
   "execution_count": null,
   "metadata": {},
   "outputs": [],
   "source": []
  },
  {
   "cell_type": "code",
   "execution_count": null,
   "metadata": {},
   "outputs": [],
   "source": []
  },
  {
   "cell_type": "code",
   "execution_count": null,
   "metadata": {},
   "outputs": [],
   "source": []
  },
  {
   "cell_type": "code",
   "execution_count": null,
   "metadata": {},
   "outputs": [],
   "source": []
  }
 ],
 "metadata": {
  "kernelspec": {
   "display_name": "Python 3 (ipykernel)",
   "language": "python",
   "name": "python3"
  },
  "language_info": {
   "codemirror_mode": {
    "name": "ipython",
    "version": 3
   },
   "file_extension": ".py",
   "mimetype": "text/x-python",
   "name": "python",
   "nbconvert_exporter": "python",
   "pygments_lexer": "ipython3",
   "version": "3.10.10"
  }
 },
 "nbformat": 4,
 "nbformat_minor": 2
}
