{
 "cells": [
  {
   "cell_type": "code",
   "execution_count": 5,
   "metadata": {},
   "outputs": [
    {
     "data": {
      "text/html": [
       "<style>.container { width:100% !important; }</style>"
      ],
      "text/plain": [
       "<IPython.core.display.HTML object>"
      ]
     },
     "metadata": {},
     "output_type": "display_data"
    }
   ],
   "source": [
    "import pandas as pd\n",
    "import numpy as np\n",
    " \n",
    "import imp\n",
    "import logging\n",
    "\n",
    "logging.getLogger().setLevel(logging.INFO)\n",
    "\n",
    "from IPython.display import display, HTML\n",
    "display(HTML(\"<style>.container { width:100% !important; }</style>\"))"
   ]
  },
  {
   "cell_type": "code",
   "execution_count": 6,
   "metadata": {},
   "outputs": [],
   "source": [
    "import os, sys\n",
    "\n",
    "home = os.environ[\"HOME\"]\n",
    "sys.path.append(f\"{home}/Desktop/project-ursa/mining_library\")\n",
    "\n",
    "import imp"
   ]
  },
  {
   "cell_type": "code",
   "execution_count": 7,
   "metadata": {},
   "outputs": [
    {
     "data": {
      "text/plain": [
       "<module 'data_utils' from '/Users/merkle-employee/Desktop/project-ursa/mining_library/data_utils.py'>"
      ]
     },
     "execution_count": 7,
     "metadata": {},
     "output_type": "execute_result"
    }
   ],
   "source": [
    "import mining_constants\n",
    "imp.reload(mining_constants)\n",
    "\n",
    "import data_utils\n",
    "imp.reload(data_utils)"
   ]
  },
  {
   "cell_type": "code",
   "execution_count": 8,
   "metadata": {},
   "outputs": [
    {
     "name": "stderr",
     "output_type": "stream",
     "text": [
      "INFO:root:https://min-api.cryptocompare.com/data/blockchain/histo/day?fsym=BTC&api_key=bcf82a146731f8d724b749025e5e368234aa3e428d31d5c4c6aa5bfa7ddf6e9c&limit=2000\n",
      "INFO:root:https://min-api.cryptocompare.com/data/v2/histoday?fsym=BTC&tsym=USD&api_key=bcf82a146731f8d724b749025e5e368234aa3e428d31d5c4c6aa5bfa7ddf6e9c&limit=2000\n"
     ]
    }
   ],
   "source": [
    "cc_key = \"bcf82a146731f8d724b749025e5e368234aa3e428d31d5c4c6aa5bfa7ddf6e9c\"\n",
    "\n",
    "# data_utils.generate_weekly_df(cc_key)\n",
    "daily_df = data_utils.get_raw_df(cc_key)"
   ]
  },
  {
   "cell_type": "code",
   "execution_count": 10,
   "metadata": {},
   "outputs": [],
   "source": [
    "machine_params = data_utils.machine_params()\n",
    "S19J_hr = machine_params.get(\"S19J\").get(\"hash_rate\")\n",
    "S9_hr   = machine_params.get(\"S9\").get(\"hash_rate\")\n",
    "S17_hr  = machine_params.get(\"S17\").get(\"hash_rate\")\n",
    "M20_hr  = machine_params.get(\"M20\").get(\"hash_rate\")\n",
    "M30_hr  = machine_params.get(\"M30\").get(\"hash_rate\")\n",
    "\n",
    "\n",
    "avg_hashrate = np.mean(np.array([S19J_hr, S17_hr, M20_hr, M30_hr]))\n",
    "\n",
    "avg_price = np.mean([2456, 1128, 2586, 972])"
   ]
  },
  {
   "cell_type": "code",
   "execution_count": 11,
   "metadata": {},
   "outputs": [
    {
     "data": {
      "text/plain": [
       "89.63439083018869"
      ]
     },
     "execution_count": 11,
     "metadata": {},
     "output_type": "execute_result"
    }
   ],
   "source": [
    "network_hashrate_th   = 3.325835e+08\n",
    "machine_count         = network_hashrate_th/avg_hashrate\n",
    "\n",
    "OECD_percent          = 0.5\n",
    "lifetime_transactions = 3\n",
    "penetration_percent   = 0.4\n",
    "origination_fee       = 0.02\n",
    "\n",
    "OECD_count            = machine_count * OECD_percent\n",
    "OECD_machine_value    = machine_count * OECD_percent * avg_price\n",
    "\n",
    "total_nearterm_marketsize = lifetime_transactions * OECD_machine_value\n",
    "\n",
    "revenue_potential     = (total_nearterm_marketsize / 1e6) * origination_fee * penetration_percent\n",
    "revenue_potential"
   ]
  },
  {
   "cell_type": "code",
   "execution_count": 12,
   "metadata": {},
   "outputs": [
    {
     "data": {
      "text/plain": [
       "4183440.251572327"
      ]
     },
     "execution_count": 12,
     "metadata": {},
     "output_type": "execute_result"
    }
   ],
   "source": [
    "machine_count"
   ]
  },
  {
   "cell_type": "code",
   "execution_count": null,
   "metadata": {},
   "outputs": [],
   "source": []
  },
  {
   "cell_type": "code",
   "execution_count": null,
   "metadata": {},
   "outputs": [],
   "source": []
  }
 ],
 "metadata": {
  "kernelspec": {
   "display_name": "Python 3",
   "language": "python",
   "name": "python3"
  },
  "language_info": {
   "codemirror_mode": {
    "name": "ipython",
    "version": 3
   },
   "file_extension": ".py",
   "mimetype": "text/x-python",
   "name": "python",
   "nbconvert_exporter": "python",
   "pygments_lexer": "ipython3",
   "version": "3.6.5"
  }
 },
 "nbformat": 4,
 "nbformat_minor": 2
}
