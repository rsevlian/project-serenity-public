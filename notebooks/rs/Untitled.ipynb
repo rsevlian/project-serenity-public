{
 "cells": [
  {
   "cell_type": "code",
   "execution_count": 3,
   "id": "ed250241",
   "metadata": {},
   "outputs": [
    {
     "name": "stdout",
     "output_type": "stream",
     "text": [
      "20 40\n"
     ]
    }
   ],
   "source": [
    "duration = 20\n",
    "\n",
    "rem = duration % 60\n",
    "key = (60 - rem) % 60\n",
    "\n",
    "print(rem, key)"
   ]
  },
  {
   "cell_type": "code",
   "execution_count": 4,
   "id": "2491424e",
   "metadata": {},
   "outputs": [
    {
     "name": "stdout",
     "output_type": "stream",
     "text": [
      "40 20\n"
     ]
    }
   ],
   "source": [
    "duration = 40\n",
    "\n",
    "rem = duration % 60\n",
    "key = (60 - rem) % 60\n",
    "\n",
    "print(rem, key)"
   ]
  },
  {
   "cell_type": "code",
   "execution_count": 7,
   "id": "bca336d4",
   "metadata": {},
   "outputs": [
    {
     "data": {
      "text/plain": [
       "60"
      ]
     },
     "execution_count": 7,
     "metadata": {},
     "output_type": "execute_result"
    }
   ],
   "source": [
    "duration = 1\n",
    "duration % 60 + (60 - duration % 60) % 60\n"
   ]
  },
  {
   "cell_type": "code",
   "execution_count": null,
   "id": "61856152",
   "metadata": {},
   "outputs": [],
   "source": []
  }
 ],
 "metadata": {
  "kernelspec": {
   "display_name": "Python 3 (ipykernel)",
   "language": "python",
   "name": "python3"
  },
  "language_info": {
   "codemirror_mode": {
    "name": "ipython",
    "version": 3
   },
   "file_extension": ".py",
   "mimetype": "text/x-python",
   "name": "python",
   "nbconvert_exporter": "python",
   "pygments_lexer": "ipython3",
   "version": "3.10.10"
  }
 },
 "nbformat": 4,
 "nbformat_minor": 5
}
