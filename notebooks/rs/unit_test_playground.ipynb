{
 "cells": [
  {
   "cell_type": "code",
   "execution_count": 4,
   "metadata": {},
   "outputs": [
    {
     "data": {
      "text/html": [
       "<style>.container { width:100% !important; }</style>"
      ],
      "text/plain": [
       "<IPython.core.display.HTML object>"
      ]
     },
     "metadata": {},
     "output_type": "display_data"
    }
   ],
   "source": [
    "import sys\n",
    "import pandas as pd\n",
    "import matplotlib.pyplot as plt\n",
    "import datetime\n",
    "import logging\n",
    "import requests\n",
    "import datetime as dt\n",
    "import pylab\n",
    "\n",
    "import scipy.stats as stats\n",
    "from matplotlib import pyplot\n",
    "\n",
    "import numpy as np\n",
    "\n",
    "import warnings\n",
    "warnings.filterwarnings('ignore')\n",
    "\n",
    "logging.getLogger().setLevel(logging.INFO)\n",
    "\n",
    "from IPython.display import display, HTML\n",
    "display(HTML(\"<style>.container { width:100% !important; }</style>\"))\n",
    "\n",
    "import os, sys, imp"
   ]
  },
  {
   "cell_type": "code",
   "execution_count": 6,
   "metadata": {},
   "outputs": [],
   "source": [
    "home = os.environ[\"HOME\"]\n",
    "sys.path.append(f\"{home}/Desktop/project-ursa/lib\")"
   ]
  },
  {
   "cell_type": "code",
   "execution_count": 23,
   "metadata": {},
   "outputs": [
    {
     "name": "stdout",
     "output_type": "stream",
     "text": [
      "(100, 1000) (100, 1000)\n"
     ]
    }
   ],
   "source": [
    "import random\n",
    "\n",
    "import monte_carlo\n",
    "imp.reload(monte_carlo)\n",
    "\n",
    "random.seed(0)\n",
    "s = 0.3\n",
    "M = 100\n",
    "N = 1000\n",
    "T = 1\n",
    "S = 1\n",
    "r = 0\n",
    "t, St, Rt = monte_carlo.gbm_simulate(S, T, r, sigma = s / np.sqrt(M), steps=M, N=N)\n",
    "\n",
    "assert t[0] == 0\n",
    "assert t[-1] == T\n",
    "assert len(t) == M\n",
    "print(St.shape, Rt.shape)\n",
    "assert St.shape == (M, N)\n",
    "assert Rt.shape == (M, N)\n",
    "\n",
    "assert round(np.std(Rt[1:, :]), 3) == s/np.sqrt(M)\n",
    "assert round(np.diff(np.log(St.T)).std(), 3) == s / np.sqrt(M)\n"
   ]
  },
  {
   "cell_type": "code",
   "execution_count": 21,
   "metadata": {},
   "outputs": [
    {
     "data": {
      "text/plain": [
       "array([[ 0.        ,  0.        ,  0.        , ...,  0.        ,\n",
       "         0.        ,  0.        ],\n",
       "       [-0.02633048, -0.03650385, -0.01590603, ..., -0.02314392,\n",
       "        -0.01748408,  0.00658202],\n",
       "       [-0.09284901, -0.09354237,  0.05728937, ...,  0.0133882 ,\n",
       "        -0.00633955,  0.00164036],\n",
       "       ...,\n",
       "       [ 0.64860411, -0.75866994,  0.34513728, ..., -0.55681978,\n",
       "        -0.2034324 ,  0.07415811],\n",
       "       [ 0.61654617, -0.74092588,  0.36980136, ..., -0.56839733,\n",
       "        -0.15211791,  0.11641947],\n",
       "       [ 0.64603679, -0.74655923,  0.32470921, ..., -0.68003608,\n",
       "        -0.08872844,  0.07918496]])"
      ]
     },
     "execution_count": 21,
     "metadata": {},
     "output_type": "execute_result"
    }
   ],
   "source": [
    "np.diff(np.log(St))"
   ]
  },
  {
   "cell_type": "code",
   "execution_count": 102,
   "metadata": {},
   "outputs": [],
   "source": [
    "import data_utils\n",
    "import mining_constants\n",
    "\n",
    "## generate features.\n",
    "du = data_utils.DataUtility(\"\")\n",
    "du._raw_network_price_df = pd.read_csv(\"../../data/raw_network_price.csv\").drop(\"Unnamed: 0\", axis=\"columns\")\n",
    "du._raw_network_price_df.time = pd.to_datetime(du._raw_network_price_df.time)\n",
    "du._df_feature() \n",
    "du._aggregate_weekly_df() \n",
    "\n",
    "## "
   ]
  },
  {
   "cell_type": "code",
   "execution_count": 103,
   "metadata": {},
   "outputs": [
    {
     "name": "stdout",
     "output_type": "stream",
     "text": [
      "7.019230769230769 (52,) (52, 100) (52,)\n"
     ]
    }
   ],
   "source": [
    "\n",
    "imp.reload(monte_carlo)\n",
    "gg = monte_carlo.GBMPriceLinearHashRate()\n",
    "gg.fit(\n",
    "    du._weekly_network_price_df, \n",
    "    sample_rate = mining_constants.SAMPLE_RATE_WEEKLY\n",
    ")\n",
    "\n",
    "start_time  = datetime.datetime(2022, 4, 14).date()\n",
    "hashrate    = 346035351.07423794 \n",
    "hash_index  = 0.07690399113505421 \n",
    "btc_close   = 29568.332857142854\n",
    "T           = 1\n",
    "N           = 100\n",
    "sample_rate = mining_constants.SAMPLE_RATE_WEEKLY\n",
    "np.random.seed(0)\n",
    "ttm_vec, ttm_dt_vec, St, HRt, wt_daily, Ht = gg.simulate(start_time, btc_close, hashrate, T, sample_rate, N)"
   ]
  },
  {
   "cell_type": "code",
   "execution_count": 104,
   "metadata": {},
   "outputs": [],
   "source": [
    "assert St.sum().sum() == 167583680.79133713"
   ]
  },
  {
   "cell_type": "code",
   "execution_count": null,
   "metadata": {},
   "outputs": [],
   "source": []
  },
  {
   "cell_type": "code",
   "execution_count": null,
   "metadata": {},
   "outputs": [],
   "source": []
  },
  {
   "cell_type": "code",
   "execution_count": null,
   "metadata": {},
   "outputs": [],
   "source": []
  },
  {
   "cell_type": "code",
   "execution_count": null,
   "metadata": {},
   "outputs": [],
   "source": []
  },
  {
   "cell_type": "code",
   "execution_count": null,
   "metadata": {},
   "outputs": [],
   "source": []
  }
 ],
 "metadata": {
  "kernelspec": {
   "display_name": "Python 3 (ipykernel)",
   "language": "python",
   "name": "python3"
  },
  "language_info": {
   "codemirror_mode": {
    "name": "ipython",
    "version": 3
   },
   "file_extension": ".py",
   "mimetype": "text/x-python",
   "name": "python",
   "nbconvert_exporter": "python",
   "pygments_lexer": "ipython3",
   "version": "3.10.10"
  }
 },
 "nbformat": 4,
 "nbformat_minor": 2
}
