{
 "cells": [
  {
   "cell_type": "code",
   "execution_count": 23,
   "metadata": {},
   "outputs": [
    {
     "data": {
      "text/html": [
       "<style>.container { width:100% !important; }</style>"
      ],
      "text/plain": [
       "<IPython.core.display.HTML object>"
      ]
     },
     "metadata": {},
     "output_type": "display_data"
    },
    {
     "data": {
      "text/plain": [
       "{'divide': 'ignore', 'over': 'warn', 'under': 'ignore', 'invalid': 'warn'}"
      ]
     },
     "execution_count": 23,
     "metadata": {},
     "output_type": "execute_result"
    }
   ],
   "source": [
    "import sys\n",
    "import pandas as pd\n",
    "import matplotlib.pyplot as plt\n",
    "import datetime\n",
    "import logging\n",
    "import requests\n",
    "import datetime as dt\n",
    "import pylab\n",
    "\n",
    "import scipy.stats as stats\n",
    "from matplotlib import pyplot\n",
    "\n",
    "import numpy as np\n",
    "\n",
    "import warnings\n",
    "warnings.filterwarnings('ignore')\n",
    "\n",
    "logging.getLogger().setLevel(logging.INFO)\n",
    "\n",
    "from IPython.display import display, HTML\n",
    "display(HTML(\"<style>.container { width:100% !important; }</style>\"))\n",
    "import os, sys\n",
    "\n",
    "home = os.environ[\"HOME\"]\n",
    "sys.path.append(f\"{home}/Desktop/project-ursa/lib\")\n",
    "import imp\n",
    "\n",
    "np.seterr(divide = 'ignore') \n"
   ]
  },
  {
   "cell_type": "code",
   "execution_count": 24,
   "metadata": {},
   "outputs": [
    {
     "data": {
      "text/plain": [
       "<module 'delta_hedge' from '/Users/merkle-employee/Desktop/project-ursa/lib/delta_hedge.py'>"
      ]
     },
     "execution_count": 24,
     "metadata": {},
     "output_type": "execute_result"
    }
   ],
   "source": [
    "import bsm_utils\n",
    "imp.reload(bsm_utils)\n",
    "\n",
    "import delta_hedge\n",
    "imp.reload(delta_hedge)"
   ]
  },
  {
   "cell_type": "code",
   "execution_count": 25,
   "metadata": {},
   "outputs": [
    {
     "data": {
      "text/plain": [
       "<module 'backtest' from '/Users/merkle-employee/Desktop/project-ursa/lib/backtest.py'>"
      ]
     },
     "execution_count": 25,
     "metadata": {},
     "output_type": "execute_result"
    }
   ],
   "source": [
    "import mining_constants\n",
    "imp.reload(mining_constants)\n",
    "\n",
    "import backtest\n",
    "imp.reload(backtest)"
   ]
  },
  {
   "cell_type": "code",
   "execution_count": 26,
   "metadata": {
    "scrolled": false
   },
   "outputs": [
    {
     "data": {
      "text/plain": [
       "<module 'backtest' from '/Users/merkle-employee/Desktop/project-ursa/lib/backtest.py'>"
      ]
     },
     "execution_count": 26,
     "metadata": {},
     "output_type": "execute_result"
    }
   ],
   "source": [
    "import delta_hedge\n",
    "imp.reload(delta_hedge)\n",
    "\n",
    "import backtest\n",
    "imp.reload(backtest)\n"
   ]
  },
  {
   "cell_type": "code",
   "execution_count": 27,
   "metadata": {},
   "outputs": [],
   "source": [
    "# plt.hist(sim_df.hedging_cost, bins=100)\n",
    "# plt.axvline(sim_df.bsm_price.mean(), color=\"red\")\n",
    "# plt.grid()"
   ]
  },
  {
   "cell_type": "code",
   "execution_count": 28,
   "metadata": {
    "scrolled": false
   },
   "outputs": [],
   "source": [
    "S  = 49\n",
    "K  = 50 \n",
    "r  = 0.05\n",
    "s  = 0.20\n",
    "T  = 0.3846\n",
    "mu = 0.13\n",
    "\n",
    "df_1 = pd.read_csv(\"../../data/delta_hedge_ex_OTM.csv\")\n",
    "\n",
    "t          = df_1.week.values / 52\n",
    "price_t    = df_1.spot.values\n",
    "sigma_iv_t = np.array(len(t) * [s])\n",
    "delta_t    = df_1.delta.values\n",
    "slippage_t = np.array(len(t) * [0])\n",
    "\n",
    "params = {\n",
    "    \"sigma\" : s,\n",
    "    \"K\"     : K,\n",
    "    \"T\"     : T,\n",
    "    \"Q\"     : 100000,\n",
    "    \"interest_rate\"      : 0.05,\n",
    "    \"sample_rate\"        : mining_constants.SAMPLE_RATE_WEEKLY,\n",
    "    \"contract_type\"      : mining_constants.CONTRACT_CALL_OPTION,\n",
    "    \"contract_direction\" : mining_constants.DIRECTION_LONG_CONTRACT\n",
    "}\n",
    "\n",
    "metrics = delta_hedge.simulate_delta_hedging(t, s, price_t, delta_t, slippage_t, params)"
   ]
  },
  {
   "cell_type": "code",
   "execution_count": 29,
   "metadata": {},
   "outputs": [
    {
     "data": {
      "text/plain": [
       "{'ITM': False,\n",
       " 'Final Spot': 48.12,\n",
       " 'K': 50,\n",
       " 'purchase_cost': 251455.11503068352,\n",
       " 'hedging_cost': 251455.11503068352,\n",
       " 'bsm_price': 2.3547394142893583,\n",
       " 'agg_bsm_price': 235473.94142893585,\n",
       " 'hedging_err': 2.06786811952426,\n",
       " 'excersized_cashflow': 0.0,\n",
       " 'df':            t  delta  price  slippage  discount_factor  delta_delta   \n",
       " 0   0.000000  0.522  49.00         0         1.000000        0.522  \\\n",
       " 1   0.019231  0.568  49.75         0         0.999039        0.046   \n",
       " 2   0.038462  0.705  52.00         0         0.998079        0.137   \n",
       " 3   0.057692  0.579  50.00         0         0.997120       -0.126   \n",
       " 4   0.076923  0.459  48.38         0         0.996161       -0.120   \n",
       " 5   0.096154  0.443  48.25         0         0.995204       -0.016   \n",
       " 6   0.115385  0.475  48.75         0         0.994247        0.032   \n",
       " 7   0.134615  0.540  49.63         0         0.993292        0.065   \n",
       " 8   0.153846  0.420  48.25         0         0.992337       -0.120   \n",
       " 9   0.173077  0.410  48.25         0         0.991383       -0.010   \n",
       " 10  0.192308  0.658  51.12         0         0.990431        0.248   \n",
       " 11  0.211538  0.692  51.50         0         0.989479        0.034   \n",
       " 12  0.230769  0.542  49.88         0         0.988528       -0.150   \n",
       " 13  0.250000  0.538  49.88         0         0.987578       -0.004   \n",
       " 14  0.269231  0.400  48.75         0         0.986629       -0.138   \n",
       " 15  0.288462  0.236  47.50         0         0.985680       -0.164   \n",
       " 16  0.307692  0.261  48.00         0         0.984733        0.025   \n",
       " 17  0.326923  0.062  46.25         0         0.983787       -0.199   \n",
       " 18  0.346154  0.183  48.13         0         0.982841        0.121   \n",
       " 19  0.365385  0.007  46.63         0         0.981897       -0.176   \n",
       " 20  0.384615  0.000  48.12         0         0.980953       -0.007   \n",
       " \n",
       "     slippage_multiplier  purchase_quantity  purchase_value   \n",
       " 0                   1.0            52200.0       2557800.0  \\\n",
       " 1                   1.0             4600.0        228850.0   \n",
       " 2                   1.0            13700.0        712400.0   \n",
       " 3                   1.0           -12600.0       -630000.0   \n",
       " 4                   1.0           -12000.0       -580560.0   \n",
       " 5                   1.0            -1600.0        -77200.0   \n",
       " 6                   1.0             3200.0        156000.0   \n",
       " 7                   1.0             6500.0        322595.0   \n",
       " 8                   1.0           -12000.0       -579000.0   \n",
       " 9                   1.0            -1000.0        -48250.0   \n",
       " 10                  1.0            24800.0       1267776.0   \n",
       " 11                  1.0             3400.0        175100.0   \n",
       " 12                  1.0           -15000.0       -748200.0   \n",
       " 13                  1.0             -400.0        -19952.0   \n",
       " 14                  1.0           -13800.0       -672750.0   \n",
       " 15                  1.0           -16400.0       -779000.0   \n",
       " 16                  1.0             2500.0        120000.0   \n",
       " 17                  1.0           -19900.0       -920375.0   \n",
       " 18                  1.0            12100.0        582373.0   \n",
       " 19                  1.0           -17600.0       -820688.0   \n",
       " 20                  1.0             -700.0        -33684.0   \n",
       " \n",
       "     discounted_purchase_value  \n",
       " 0                2.557800e+06  \n",
       " 1                2.286301e+05  \n",
       " 2                7.110313e+05  \n",
       " 3               -6.281853e+05  \n",
       " 4               -5.783314e+05  \n",
       " 5               -7.682974e+04  \n",
       " 6                1.551026e+05  \n",
       " 7                3.204310e+05  \n",
       " 8               -5.745632e+05  \n",
       " 9               -4.783425e+04  \n",
       " 10               1.255644e+06  \n",
       " 11               1.732577e+05  \n",
       " 12              -7.396165e+05  \n",
       " 13              -1.970415e+04  \n",
       " 14              -6.637544e+05  \n",
       " 15              -7.678451e+05  \n",
       " 16               1.181680e+05  \n",
       " 17              -9.054527e+05  \n",
       " 18               5.723802e+05  \n",
       " 19              -8.058308e+05  \n",
       " 20              -3.304242e+04  }"
      ]
     },
     "execution_count": 29,
     "metadata": {},
     "output_type": "execute_result"
    }
   ],
   "source": [
    "metrics"
   ]
  },
  {
   "cell_type": "code",
   "execution_count": 21,
   "metadata": {},
   "outputs": [],
   "source": [
    "# assert metrics['ITM'] == False\n",
    "# assert metrics['Final Spot'] == 48.12\n",
    "# assert metrics['K'] == 50\n",
    "# assert metrics['purchase_cost'] == 251455.11503068352\n",
    "# assert metrics['hedging_cost'] == 251455.11503068352\n",
    "# assert metrics['expiry_cashflow'] == 0.0\n",
    "# assert metrics['bsm_price'] == 2.3547394142893583\n",
    "# assert metrics['agg_bsm_price'] == 235473.94142893585"
   ]
  },
  {
   "cell_type": "code",
   "execution_count": 50,
   "metadata": {
    "scrolled": false
   },
   "outputs": [
    {
     "data": {
      "text/plain": [
       "True"
      ]
     },
     "execution_count": 50,
     "metadata": {},
     "output_type": "execute_result"
    }
   ],
   "source": [
    "S  = 49\n",
    "K  = 50 \n",
    "r  = 0.05\n",
    "s  = 0.20\n",
    "T  = 0.3846\n",
    "mu = 0.13\n",
    "\n",
    "df_1 = pd.read_csv(\"../../data/delta_hedge_ex_ITM.csv\")\n",
    "\n",
    "t          = df_1.week.values / 52\n",
    "price_t    = df_1.spot.values\n",
    "sigma_iv_t = np.array(len(t) * [s])\n",
    "delta_t    = df_1.delta.values\n",
    "slippage_t = np.array(len(t) * [0])\n",
    "\n",
    "params = {\n",
    "    \"sigma\" : s,\n",
    "    \"K\"     : K,\n",
    "    \"T\"     : T,\n",
    "    \"Q\"     : 100000,\n",
    "    \"interest_rate\"      : 0.05,\n",
    "    \"sample_rate\"        : mining_constants.SAMPLE_RATE_WEEKLY,\n",
    "    \"contract_type\"      : mining_constants.CONTRACT_CALL_OPTION,\n",
    "    \"contract_direction\" : mining_constants.DIRECTION_LONG_CONTRACT\n",
    "}\n",
    "imp.reload(delta_hedge)\n",
    "metrics = delta_hedge.simulate_delta_hedging(t, s, price_t, delta_t, slippage_t, params)\n",
    "\n",
    "metrics[\"df\"].purchase_quantity.sum() == params.get(\"Q\")"
   ]
  },
  {
   "cell_type": "code",
   "execution_count": null,
   "metadata": {
    "scrolled": true
   },
   "outputs": [],
   "source": [
    "plt.plot()"
   ]
  },
  {
   "cell_type": "code",
   "execution_count": null,
   "metadata": {},
   "outputs": [],
   "source": []
  },
  {
   "cell_type": "code",
   "execution_count": null,
   "metadata": {},
   "outputs": [],
   "source": []
  },
  {
   "cell_type": "code",
   "execution_count": null,
   "metadata": {},
   "outputs": [],
   "source": []
  }
 ],
 "metadata": {
  "kernelspec": {
   "display_name": "Python 3 (ipykernel)",
   "language": "python",
   "name": "python3"
  },
  "language_info": {
   "codemirror_mode": {
    "name": "ipython",
    "version": 3
   },
   "file_extension": ".py",
   "mimetype": "text/x-python",
   "name": "python",
   "nbconvert_exporter": "python",
   "pygments_lexer": "ipython3",
   "version": "3.10.10"
  }
 },
 "nbformat": 4,
 "nbformat_minor": 2
}
