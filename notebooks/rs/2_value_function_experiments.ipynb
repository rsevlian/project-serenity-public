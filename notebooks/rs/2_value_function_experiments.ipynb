{
 "cells": [
  {
   "cell_type": "code",
   "execution_count": 1,
   "metadata": {},
   "outputs": [
    {
     "data": {
      "text/html": [
       "<style>.container { width:100% !important; }</style>"
      ],
      "text/plain": [
       "<IPython.core.display.HTML object>"
      ]
     },
     "metadata": {},
     "output_type": "display_data"
    }
   ],
   "source": [
    "import sys\n",
    "import pandas as pd\n",
    "import matplotlib.pyplot as plt\n",
    "import datetime\n",
    "import logging\n",
    "import requests\n",
    "import datetime as dt\n",
    "import pylab\n",
    "\n",
    "import scipy.stats as stats\n",
    "from matplotlib import pyplot\n",
    "\n",
    "import numpy as np\n",
    "\n",
    "import warnings\n",
    "warnings.filterwarnings('ignore')\n",
    "\n",
    "logging.getLogger().setLevel(logging.INFO)\n",
    "\n",
    "\n",
    "from IPython.display import display, HTML\n",
    "display(HTML(\"<style>.container { width:100% !important; }</style>\"))\n",
    "import os, sys"
   ]
  },
  {
   "cell_type": "code",
   "execution_count": 2,
   "metadata": {},
   "outputs": [],
   "source": [
    "home = os.environ[\"HOME\"]\n",
    "sys.path.append(f\"{home}/Desktop/project-ursa/lib\")\n",
    "\n",
    "import imp"
   ]
  },
  {
   "cell_type": "code",
   "execution_count": 4,
   "metadata": {},
   "outputs": [
    {
     "data": {
      "text/plain": [
       "<module 'machine_npv' from '/Users/merkle-employee/Desktop/project-ursa/lib/machine_npv.py'>"
      ]
     },
     "execution_count": 4,
     "metadata": {},
     "output_type": "execute_result"
    }
   ],
   "source": [
    "import monte_carlo\n",
    "imp.reload(monte_carlo)\n",
    "\n",
    "import data_utils\n",
    "imp.reload(data_utils)\n",
    "\n",
    "# import data_analysis\n",
    "# imp.reload(data_analysis)\n",
    "\n",
    "import mining_constants\n",
    "imp.reload(mining_constants)\n",
    "\n",
    "import machine_npv\n",
    "imp.reload(machine_npv)"
   ]
  },
  {
   "cell_type": "code",
   "execution_count": 7,
   "metadata": {},
   "outputs": [
    {
     "name": "stdout",
     "output_type": "stream",
     "text": [
      "week:  2023-04-14 hashrate:  346035351.07423794 hash-index:  0.07690399113505421 btc-close:  29568.332857142854\n"
     ]
    }
   ],
   "source": [
    "du = data_utils.DataUtility(\"cc_key\")\n",
    "\n",
    "##\n",
    "du._raw_network_price_df = pd.read_csv(\"../../data/raw_network_price.csv\").drop(\"Unnamed: 0\", axis=\"columns\")\n",
    "du._raw_network_price_df.time = pd.to_datetime(du._raw_network_price_df.time)\n",
    "du._df_feature() \n",
    "du._aggregate_weekly_df() \n",
    "\n",
    "daily_df  = du._daily_network_price_df\n",
    "weekly_df = du._weekly_network_price_df\n",
    "\n",
    "## \n",
    "sp = monte_carlo.GBMPriceLinearHashRate()\n",
    "sp.fit(weekly_df, sample_rate=mining_constants.SAMPLE_RATE_WEEKLY)\n",
    "\n",
    "## \n",
    "k = len(weekly_df) - 1\n",
    "\n",
    "start_time = weekly_df.reset_index().loc[k, \"time\"]\n",
    "hash_rate  = weekly_df.reset_index().loc[k, \"hashrate\"]\n",
    "hash_index = weekly_df.reset_index().loc[k, \"hash_index\"]\n",
    "btc_close  = weekly_df.reset_index().loc[k, \"close\"]\n",
    "\n",
    "print(\"week: \", start_time, \"hashrate: \", hash_rate, \"hash-index: \", hash_index, \"btc-close: \", btc_close)\n"
   ]
  },
  {
   "cell_type": "code",
   "execution_count": 9,
   "metadata": {},
   "outputs": [],
   "source": [
    "machine_params   = mining_constants.machine_params()\n",
    "machine_duration = 1.2\n",
    "ky = \"S19J\"\n",
    "params = {\n",
    "    \"asic_energy_consumption\" : machine_params[ky][\"energy_consumption\"],\n",
    "    \"asic_hash_rate\"          : machine_params[ky][\"hash_rate\"],\n",
    "    \"electricity_cost\"        : 0.05,\n",
    "    \"machine_duration\"        : machine_duration,\n",
    "    \"sample_rate\"             : mining_constants.SAMPLE_RATE_WEEKLY,\n",
    "    \"mc_size\"                 : 1000,\n",
    "    \"interest_rate\"           : 0.05,\n",
    "    \"asic_number\"             : 1,\n",
    "    \"asic_efficiency\"         : 1.0,\n",
    "    \"pool_fee\"                : 0.005,\n",
    "    \"analysis_denomination\"   : mining_constants.ASSET_USD\n",
    "}\n",
    "\n",
    "import machine_npv\n",
    "imp.reload(machine_npv)\n",
    "\n",
    "m_npv = machine_npv.MachineNPV(sp, params)\n",
    "m_npv._setup(start_time, btc_close, hash_rate)\n",
    "\n",
    "m_usd_bsm = machine_npv.MachineNPV_USD_BSM(sp, params)\n",
    "usd_bsm = m_usd_bsm.price(start_time, btc_close, hash_rate)\n",
    "\n",
    "m_usd_bin = machine_npv.MachineNPV_USD_Bin(sp, params)\n",
    "usd_bin = m_usd_bin.price(start_time, btc_close, hash_rate, 100)\n",
    "\n",
    "m_btc_bin = machine_npv.MachineNPV_BTC_Bin(sp, params)\n",
    "btc_bin = m_btc_bin.price(start_time, btc_close, hash_rate, 100)"
   ]
  },
  {
   "cell_type": "code",
   "execution_count": 12,
   "metadata": {},
   "outputs": [
    {
     "data": {
      "text/plain": [
       "(1048.5823947443246,\n",
       " 1048.7237385009564,\n",
       " 0.035467800757242054,\n",
       " 0.02742934663795226)"
      ]
     },
     "execution_count": 12,
     "metadata": {},
     "output_type": "execute_result"
    }
   ],
   "source": [
    "usd_bsm, usd_bin, usd_bin / btc_close, btc_bin"
   ]
  },
  {
   "cell_type": "code",
   "execution_count": 13,
   "metadata": {},
   "outputs": [
    {
     "data": {
      "text/plain": [
       "0.02742934663795226"
      ]
     },
     "execution_count": 13,
     "metadata": {},
     "output_type": "execute_result"
    }
   ],
   "source": [
    "btc_bin"
   ]
  },
  {
   "cell_type": "code",
   "execution_count": null,
   "metadata": {},
   "outputs": [],
   "source": []
  },
  {
   "cell_type": "code",
   "execution_count": null,
   "metadata": {},
   "outputs": [],
   "source": []
  }
 ],
 "metadata": {
  "kernelspec": {
   "display_name": "Python 3 (ipykernel)",
   "language": "python",
   "name": "python3"
  },
  "language_info": {
   "codemirror_mode": {
    "name": "ipython",
    "version": 3
   },
   "file_extension": ".py",
   "mimetype": "text/x-python",
   "name": "python",
   "nbconvert_exporter": "python",
   "pygments_lexer": "ipython3",
   "version": "3.10.10"
  }
 },
 "nbformat": 4,
 "nbformat_minor": 2
}
