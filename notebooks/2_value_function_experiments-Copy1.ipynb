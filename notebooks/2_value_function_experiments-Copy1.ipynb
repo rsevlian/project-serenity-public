{
 "cells": [
  {
   "cell_type": "code",
   "execution_count": 1,
   "metadata": {},
   "outputs": [
    {
     "data": {
      "text/html": [
       "<style>.container { width:100% !important; }</style>"
      ],
      "text/plain": [
       "<IPython.core.display.HTML object>"
      ]
     },
     "metadata": {},
     "output_type": "display_data"
    }
   ],
   "source": [
    "import sys\n",
    "import pandas as pd\n",
    "import matplotlib.pyplot as plt\n",
    "import datetime\n",
    "import logging\n",
    "import requests\n",
    "import datetime as dt\n",
    "import pylab\n",
    "\n",
    "import scipy.stats as stats\n",
    "from matplotlib import pyplot\n",
    "\n",
    "import numpy as np\n",
    "\n",
    "import warnings\n",
    "warnings.filterwarnings('ignore')\n",
    "\n",
    "logging.getLogger().setLevel(logging.INFO)\n",
    "\n",
    "\n",
    "from IPython.display import display, HTML\n",
    "display(HTML(\"<style>.container { width:100% !important; }</style>\"))\n",
    "import os, sys"
   ]
  },
  {
   "cell_type": "code",
   "execution_count": 2,
   "metadata": {},
   "outputs": [],
   "source": [
    "home = os.environ[\"HOME\"]\n",
    "sys.path.append(f\"{home}/Desktop/project-ursa/lib\")\n",
    "\n",
    "import imp"
   ]
  },
  {
   "cell_type": "code",
   "execution_count": null,
   "metadata": {},
   "outputs": [],
   "source": [
    "import monte_carlo\n",
    "imp.reload(monte_carlo)\n",
    "\n",
    "import data_utils\n",
    "imp.reload(data_utils)\n",
    "\n",
    "# import data_analysis\n",
    "# imp.reload(data_analysis)\n",
    "\n",
    "import mining_constants\n",
    "imp.reload(mining_constants)\n",
    "\n",
    "import machine_npv\n",
    "imp.reload(machine_npv)"
   ]
  },
  {
   "cell_type": "code",
   "execution_count": null,
   "metadata": {},
   "outputs": [],
   "source": [
    "du = data_utils.DataUtility(\"cc_key\")\n",
    "\n",
    "##\n",
    "du._raw_network_price_df = pd.read_csv(\"../../data/raw_network_price.csv\").drop(\"Unnamed: 0\", axis=\"columns\")\n",
    "du._raw_network_price_df.time = pd.to_datetime(du._raw_network_price_df.time)\n",
    "du._df_feature() \n",
    "du._aggregate_weekly_df() \n",
    "\n",
    "daily_df  = du._daily_network_price_df\n",
    "weekly_df = du._weekly_network_price_df\n",
    "\n",
    "## \n",
    "sp = monte_carlo.GBMPriceLinearHashRate()\n",
    "sp.fit(weekly_df, sample_rate=mining_constants.SAMPLE_RATE_WEEKLY)\n",
    "\n",
    "## \n",
    "k = 170\n",
    "\n",
    "start_time = weekly_df.reset_index().loc[k, \"time\"]\n",
    "hash_rate  = weekly_df.reset_index().loc[k, \"hashrate\"]\n",
    "hash_index = weekly_df.reset_index().loc[k, \"hash_index\"]\n",
    "btc_close  = weekly_df.reset_index().loc[k, \"close\"]\n",
    "\n",
    "print({\"week\": start_time, \"hashrate\": hash_rate, \"hash-index\": hash_index, \"btc-close\": btc_close})\n"
   ]
  },
  {
   "cell_type": "code",
   "execution_count": 3,
   "metadata": {},
   "outputs": [],
   "source": [
    "# machine_params   = mining_constants.machine_params()\n",
    "# md_lst = np.linspace(1, 5, 30)\n",
    "\n",
    "# res_lst = []\n",
    "# md = 4\n",
    "\n",
    "# ky = \"M20\"\n",
    "# params = {\n",
    "#     \"asic_energy_consumption\" : machine_params[ky][\"energy_consumption\"],\n",
    "#     \"asic_hash_rate\"          : machine_params[ky][\"hash_rate\"],\n",
    "#     \"electricity_cost\"        : 0.05,\n",
    "#     \"machine_duration\"        : md,\n",
    "#     \"sample_rate\"             : mining_constants.SAMPLE_RATE_WEEKLY,\n",
    "#     \"mc_size\"                 : 10000,\n",
    "#     \"interest_rate\"           : 0.05,\n",
    "#     \"asic_number\"             : 1,\n",
    "#     \"asic_efficiency\"         : 1.0,\n",
    "#     \"pool_fee\"                : 0.005,\n",
    "#     \"analysis_denomination\"   : mining_constants.ASSET_USD\n",
    "# }\n",
    "\n",
    "# ## BSM Closed Form.\n",
    "# sp = monte_carlo.GBMPriceLinearHashRate()\n",
    "# sp.fit(weekly_df, sample_rate=mining_constants.SAMPLE_RATE_WEEKLY)\n",
    "\n",
    "# m_usd_bsm = machine_npv.MachineNPV_USD_BSM(sp, params)\n",
    "# usd_bsm   = m_usd_bsm.price(start_time, btc_close, hash_rate)\n",
    "\n",
    "# ## BSM Binomial Lattice.\n",
    "# sp = monte_carlo.GBMPriceLinearHashRate()\n",
    "# sp.fit(weekly_df, sample_rate=mining_constants.SAMPLE_RATE_WEEKLY)\n",
    "\n",
    "# m_usd_bin = machine_npv.MachineNPV_USD_Bin(sp, params)\n",
    "# usd_bin   = m_usd_bin.price(start_time, btc_close, hash_rate, 100)\n",
    "\n",
    "# ## MC RND = BSM Model\n",
    "# sp = monte_carlo.GBMPriceLinearHashRate()\n",
    "# sp.fit(weekly_df, sample_rate=mining_constants.SAMPLE_RATE_WEEKLY)\n",
    "\n",
    "# m_usd_mc_rnd = machine_npv.MachineNPV_MCSim(sp, params)\n",
    "# usd_mc_rnd   = m_usd_mc_rnd.price(start_time, btc_close, hash_rate, mu_annual=params[\"interest_rate\"])\n",
    "\n",
    "# logging.info(usd_bin, usd_bsm, usd_mc_rnd)"
   ]
  },
  {
   "cell_type": "code",
   "execution_count": 4,
   "metadata": {
    "scrolled": true
   },
   "outputs": [],
   "source": [
    "# import machine_npv\n",
    "# imp.reload(machine_npv)\n",
    "\n",
    "# machine_params   = mining_constants.machine_params()\n",
    "# md_lst = np.linspace(0.5, 10, 30)\n",
    "\n",
    "# res_lst = []\n",
    "# for md in md_lst:\n",
    "\n",
    "#     ky = \"M20\"\n",
    "#     params = {\n",
    "#         \"asic_energy_consumption\" : machine_params[ky][\"energy_consumption\"],\n",
    "#         \"asic_hash_rate\"          : machine_params[ky][\"hash_rate\"],\n",
    "#         \"electricity_cost\"        : 0.05,\n",
    "#         \"machine_duration\"        : md,\n",
    "#         \"sample_rate\"             : mining_constants.SAMPLE_RATE_WEEKLY,\n",
    "#         \"mc_size\"                 : 10000,\n",
    "#         \"interest_rate\"           : 0.05,\n",
    "#         \"asic_number\"             : 1,\n",
    "#         \"asic_efficiency\"         : 1.0,\n",
    "#         \"pool_fee\"                : 0.005,\n",
    "#         \"analysis_denomination\"   : mining_constants.ASSET_USD\n",
    "#     }\n",
    "\n",
    "#     ## Deterministic\n",
    "#     sp = monte_carlo.GBMPriceLinearHashRate()\n",
    "#     sp.fit(weekly_df, sample_rate=mining_constants.SAMPLE_RATE_WEEKLY)\n",
    "\n",
    "#     sp._gbm_params[\"sigma\"] = 0.01\n",
    "\n",
    "#     m_usd_detrm = machine_npv.MachineNPV_USD_BSM(sp, params)\n",
    "#     usd_detrm   = m_usd_detrm.price(start_time, btc_close, hash_rate)\n",
    "\n",
    "#     ## BSM Closed Form.\n",
    "#     sp = monte_carlo.GBMPriceLinearHashRate()\n",
    "#     sp.fit(weekly_df, sample_rate=mining_constants.SAMPLE_RATE_WEEKLY)\n",
    "\n",
    "#     m_usd_bsm = machine_npv.MachineNPV_USD_BSM(sp, params)\n",
    "#     usd_bsm   = m_usd_bsm.price(start_time, btc_close, hash_rate)\n",
    "\n",
    "#     tmp = {\n",
    "#         \"machine_duration\": md,\n",
    "#         \"usd_bsm\"         : usd_bsm,\n",
    "#         \"usd_detrm\"       : usd_detrm\n",
    "#     }\n",
    "#     logging.info(tmp)\n",
    "#     res_lst.append(tmp)\n",
    "\n",
    "# df = pd.DataFrame(res_lst)"
   ]
  },
  {
   "cell_type": "code",
   "execution_count": 7,
   "metadata": {},
   "outputs": [],
   "source": [
    "# df = pd.DataFrame(res_lst)\n",
    "df = pd.read_csv(\"../../data/machine_price_M2_v_duration_1.csv\")"
   ]
  },
  {
   "cell_type": "code",
   "execution_count": 10,
   "metadata": {},
   "outputs": [
    {
     "data": {
      "text/plain": [
       "[<matplotlib.lines.Line2D at 0x121d90bb0>]"
      ]
     },
     "execution_count": 10,
     "metadata": {},
     "output_type": "execute_result"
    },
    {
     "data": {
      "image/png": "[encoded data removed]",
      "text/plain": [
       "<Figure size 640x480 with 1 Axes>"
      ]
     },
     "metadata": {},
     "output_type": "display_data"
    }
   ],
   "source": [
    "plt.plot(df.machine_duration, df.bsm, '.-')\n",
    "plt.plot(df.machine_duration, df.deterministic, '.-')"
   ]
  },
  {
   "cell_type": "code",
   "execution_count": null,
   "metadata": {},
   "outputs": [],
   "source": [
    "imp.reload(monte_carlo)\n",
    "sp = monte_carlo.GBMPriceLinearHashRate()\n",
    "sp.fit(weekly_df, sample_rate=mining_constants.SAMPLE_RATE_WEEKLY)\n",
    "\n",
    "sp._gbm_params[\"sigma\"] = 0.01\n",
    "\n",
    "m_usd_detrm = machine_npv.MachineNPV_USD_BSM(sp, params)\n",
    "usd_detrm   = m_usd_detrm.price(start_time, btc_close, hash_rate)\n"
   ]
  },
  {
   "cell_type": "code",
   "execution_count": null,
   "metadata": {},
   "outputs": [],
   "source": [
    "m_usd_detrm._option_df.reward\n"
   ]
  },
  {
   "cell_type": "code",
   "execution_count": 11,
   "metadata": {},
   "outputs": [
    {
     "data": {
      "text/html": [
       "<div>\n",
       "<style scoped>\n",
       "    .dataframe tbody tr th:only-of-type {\n",
       "        vertical-align: middle;\n",
       "    }\n",
       "\n",
       "    .dataframe tbody tr th {\n",
       "        vertical-align: top;\n",
       "    }\n",
       "\n",
       "    .dataframe thead th {\n",
       "        text-align: right;\n",
       "    }\n",
       "</style>\n",
       "<table border=\"1\" class=\"dataframe\">\n",
       "  <thead>\n",
       "    <tr style=\"text-align: right;\">\n",
       "      <th></th>\n",
       "      <th>Unnamed: 0</th>\n",
       "      <th>machine_duration</th>\n",
       "      <th>deterministic</th>\n",
       "      <th>bsm</th>\n",
       "      <th>binomial</th>\n",
       "      <th>mc_rnd</th>\n",
       "      <th>mc_mu_zero</th>\n",
       "      <th>mc_mu_emp</th>\n",
       "    </tr>\n",
       "  </thead>\n",
       "  <tbody>\n",
       "    <tr>\n",
       "      <th>0</th>\n",
       "      <td>0</td>\n",
       "      <td>0.1</td>\n",
       "      <td>276.998737</td>\n",
       "      <td>276.998737</td>\n",
       "      <td>276.998737</td>\n",
       "      <td>345.122558</td>\n",
       "      <td>346.185834</td>\n",
       "      <td>346.419558</td>\n",
       "    </tr>\n",
       "    <tr>\n",
       "      <th>1</th>\n",
       "      <td>1</td>\n",
       "      <td>0.2</td>\n",
       "      <td>611.156041</td>\n",
       "      <td>611.156077</td>\n",
       "      <td>611.156067</td>\n",
       "      <td>682.279748</td>\n",
       "      <td>674.255069</td>\n",
       "      <td>674.614286</td>\n",
       "    </tr>\n",
       "    <tr>\n",
       "      <th>2</th>\n",
       "      <td>2</td>\n",
       "      <td>0.3</td>\n",
       "      <td>932.254662</td>\n",
       "      <td>932.257287</td>\n",
       "      <td>932.256912</td>\n",
       "      <td>994.938000</td>\n",
       "      <td>998.770601</td>\n",
       "      <td>995.191064</td>\n",
       "    </tr>\n",
       "    <tr>\n",
       "      <th>3</th>\n",
       "      <td>3</td>\n",
       "      <td>0.4</td>\n",
       "      <td>1241.066432</td>\n",
       "      <td>1241.095813</td>\n",
       "      <td>1241.093565</td>\n",
       "      <td>1284.712669</td>\n",
       "      <td>1264.091381</td>\n",
       "      <td>1299.916491</td>\n",
       "    </tr>\n",
       "    <tr>\n",
       "      <th>4</th>\n",
       "      <td>4</td>\n",
       "      <td>0.5</td>\n",
       "      <td>1602.659873</td>\n",
       "      <td>1602.809449</td>\n",
       "      <td>1602.802243</td>\n",
       "      <td>1676.926447</td>\n",
       "      <td>1618.922200</td>\n",
       "      <td>1642.987893</td>\n",
       "    </tr>\n",
       "  </tbody>\n",
       "</table>\n",
       "</div>"
      ],
      "text/plain": [
       "   Unnamed: 0  machine_duration  deterministic          bsm     binomial   \n",
       "0           0               0.1     276.998737   276.998737   276.998737  \\\n",
       "1           1               0.2     611.156041   611.156077   611.156067   \n",
       "2           2               0.3     932.254662   932.257287   932.256912   \n",
       "3           3               0.4    1241.066432  1241.095813  1241.093565   \n",
       "4           4               0.5    1602.659873  1602.809449  1602.802243   \n",
       "\n",
       "        mc_rnd   mc_mu_zero    mc_mu_emp  \n",
       "0   345.122558   346.185834   346.419558  \n",
       "1   682.279748   674.255069   674.614286  \n",
       "2   994.938000   998.770601   995.191064  \n",
       "3  1284.712669  1264.091381  1299.916491  \n",
       "4  1676.926447  1618.922200  1642.987893  "
      ]
     },
     "execution_count": 11,
     "metadata": {},
     "output_type": "execute_result"
    }
   ],
   "source": [
    "df.head()"
   ]
  },
  {
   "cell_type": "code",
   "execution_count": null,
   "metadata": {},
   "outputs": [],
   "source": []
  }
 ],
 "metadata": {
  "kernelspec": {
   "display_name": "Python 3 (ipykernel)",
   "language": "python",
   "name": "python3"
  },
  "language_info": {
   "codemirror_mode": {
    "name": "ipython",
    "version": 3
   },
   "file_extension": ".py",
   "mimetype": "text/x-python",
   "name": "python",
   "nbconvert_exporter": "python",
   "pygments_lexer": "ipython3",
   "version": "3.10.10"
  }
 },
 "nbformat": 4,
 "nbformat_minor": 2
}
